{
  "cells": [
    {
      "cell_type": "markdown",
      "metadata": {
        "id": "view-in-github",
        "colab_type": "text"
      },
      "source": [
        "<a href=\"https://colab.research.google.com/github/pulseq/MR-Physics-with-Pulseq/blob/main/tutorials/07_echo_planar_imaging/notebooks/01_write_and_simulate_basic_EPI.ipynb\" target=\"_parent\"><img src=\"https://colab.research.google.com/assets/colab-badge.svg\" alt=\"Open In Colab\"/></a>"
      ]
    },
    {
      "cell_type": "markdown",
      "source": [
        "# Example EPI sequence\n",
        "(adopted from https://github.com/imr-framework/pypulseq/blob/dev/pypulseq/seq_examples/scripts/write_epi.py with some modifications)\n",
        "\n",
        "For the first-time use select Runtime->Run All (or hit Ctrl+F9) as thie initial setup of the environment takes about a minute. In a mean time scroll down to familiarize yourself with the sequence code.\n",
        "\n",
        "The exercises are at the at of the notebook"
      ],
      "metadata": {
        "id": "mJe7X9UGeWF1"
      }
    },
    {
      "cell_type": "markdown",
      "source": [
        "# Initial package set-up\n",
        "This is a necessary step for the Colab environment, and it is only slow on the first run"
      ],
      "metadata": {
        "id": "y-JTbHumqEST"
      }
    },
    {
      "cell_type": "code",
      "source": [
        "try:\n",
        "  import pypulseq as mr\n",
        "  print(\"pypulseq package is readily available\\n\")\n",
        "\n",
        "except ImportError or ModuleNotFoundError:\n",
        "  #!pip install git+https://github.com/imr-framework/pypulseq.git\n",
        "  #!pip install git+https://github.com/FrankZijlstra/pypulseq.git@bugfixes\n",
        "  !pip install -q mrzerocore git+https://github.com/imr-framework/pypulseq.git\n",
        "  # Frank's utils\n",
        "  !wget https://raw.githubusercontent.com/pulseq/MR-Physics-with-Pulseq/main/utils/utils.py"
      ],
      "metadata": {
        "id": "1MmzSDftfM0Z"
      },
      "execution_count": null,
      "outputs": []
    },
    {
      "cell_type": "markdown",
      "source": [
        "# Python imports"
      ],
      "metadata": {
        "id": "LTyeejePqQVh"
      }
    },
    {
      "cell_type": "code",
      "source": [
        "import math\n",
        "import warnings\n",
        "import numpy as np\n",
        "from matplotlib import pyplot as plt\n",
        "\n",
        "import pypulseq as mr\n",
        "\n",
        "# Frank's utils\n",
        "from utils import animate, simulate_2d, reconstruct"
      ],
      "metadata": {
        "id": "HmPW2QurfZcW"
      },
      "execution_count": null,
      "outputs": []
    },
    {
      "cell_type": "markdown",
      "source": [
        "# Set high-level sequence parameters\n",
        "Use the code block below to set high-level parameters such as FOV, spatial resolution, etc..."
      ],
      "metadata": {
        "id": "yXWZqRmzdLfh"
      }
    },
    {
      "cell_type": "code",
      "source": [
        "# Define FOV, resolution and other parameters\n",
        "fov = 220e-3\n",
        "Nx = 60\n",
        "Ny = 60\n",
        "slice_thickness = 4e-3  # Slice thickness\n",
        "n_slices = 1\n",
        "ro_duration=1200e-6 # duration of the ADC / readout event, defailt: 1200us, 240us still works\n",
        "rf_duration=2.5e-3\n",
        "\n",
        "# Set system limits\n",
        "system = mr.Opts(\n",
        "    max_grad=32,\n",
        "    grad_unit=\"mT/m\",\n",
        "    max_slew=130,\n",
        "    slew_unit=\"T/m/s\",\n",
        "    rf_ringdown_time=20e-6,\n",
        "    rf_dead_time=100e-6,\n",
        "    adc_dead_time=10e-6,\n",
        ")\n",
        "\n",
        "# More advansed options and switches. you may chose to disable some of these options to save time in the exercises\n",
        "plot: bool = True\n",
        "animate_seq: bool = True\n",
        "simulate: bool = True\n",
        "write_seq: bool = True\n",
        "seq_filename: str = \"epi_pypulseq.seq\""
      ],
      "metadata": {
        "id": "IEtZ-QF4f-X8"
      },
      "execution_count": null,
      "outputs": []
    },
    {
      "cell_type": "markdown",
      "source": [
        "# Create Pulseq objects\n",
        "Create all kinds of objects that we will need in the sequence, such as the slice selective RF pulse, slice selection and refocusing gradients, etc..."
      ],
      "metadata": {
        "id": "2sD8uLXn1iSH"
      }
    },
    {
      "cell_type": "code",
      "source": [
        "# Create 90 degree slice selection pulse and gradient\n",
        "rf, gz, gz_reph = mr.make_sinc_pulse(\n",
        "    flip_angle=np.pi / 2,\n",
        "    system=system,\n",
        "    duration=rf_duration,\n",
        "    slice_thickness=slice_thickness,\n",
        "    apodization=0.5,\n",
        "    time_bw_product=4,\n",
        "    return_gz=True,\n",
        ")\n",
        "\n",
        "# Define other gradients and ADC events\n",
        "delta_k = 1 / fov\n",
        "k_width = Nx * delta_k\n",
        "dwell_time = ro_duration / Nx\n",
        "flat_time = np.ceil(ro_duration / system.grad_raster_time) * system.grad_raster_time  # round-up to the gradient raster\n",
        "gx = mr.make_trapezoid(\n",
        "    channel=\"x\",\n",
        "    system=system,\n",
        "    amplitude=k_width / ro_duration,\n",
        "    flat_time=flat_time,\n",
        ")\n",
        "adc = mr.make_adc(\n",
        "    num_samples=Nx,\n",
        "    duration=ro_duration,\n",
        "    delay=gx.rise_time + flat_time / 2 - (dwell_time*Nx) / 2,\n",
        "    system=system,\n",
        ")\n",
        "\n",
        "# Pre-phasing gradients (in the shortest possible time or filling the available time)\n",
        "gx_pre = mr.make_trapezoid(\n",
        "    channel=\"x\", system=system, area=-gx.area / 2, duration=mr.calc_duration(gz_reph),\n",
        ")\n",
        "gy_pre = mr.make_trapezoid(\n",
        "    channel=\"y\", system=system, area=(Ny / 2 - 1) * delta_k, duration=mr.calc_duration(gz_reph),\n",
        ")\n",
        "\n",
        "# align gradients (calculate their delays)\n",
        "gx_pre, gy_pre, gz_reph=mr.align(right=[gx_pre],left=[gy_pre, gz_reph])\n",
        "\n",
        "# Phase blip in the shortest possible time (assuming a triangle is possible)\n",
        "dur = np.ceil(2 * np.sqrt(delta_k / system.max_slew) / system.grad_raster_time) * system.grad_raster_time\n",
        "gy = mr.make_trapezoid(channel=\"y\", system=system, area=-delta_k, duration=dur)\n",
        "\n",
        "print('achieved echo spacing is {}us'.format(round(1e6*(mr.calc_duration(gx)+mr.calc_duration(gy)))))"
      ],
      "metadata": {
        "id": "S0txuBhvhFkz"
      },
      "execution_count": null,
      "outputs": []
    },
    {
      "cell_type": "markdown",
      "source": [
        "# Construct the sequence\n",
        "Contruct the sequence object and fill it up block-by-block"
      ],
      "metadata": {
        "id": "9Tm2D8tI7zxr"
      }
    },
    {
      "cell_type": "code",
      "source": [
        "seq = mr.Sequence(system)  # Create a new sequence object\n",
        "\n",
        "# populate the sequence object with event blocks\n",
        "for s in range(n_slices):\n",
        "  rf.freq_offset = gz.amplitude * slice_thickness * (s - (n_slices - 1) / 2)\n",
        "  seq.add_block(rf, gz)\n",
        "  seq.add_block(gx_pre, gy_pre, gz_reph)\n",
        "  gx_curr=gx\n",
        "  for i in range(Ny):\n",
        "    seq.add_block(gx_curr, adc)  # Read one line of k-space out\n",
        "    if i!=Ny-1:\n",
        "      seq.add_block(gy)  # Phase blip\n",
        "      gx_curr = mr.scale_grad(gx_curr,-1)  # Reverse polarity of read gradient"
      ],
      "metadata": {
        "id": "uHCgYfk5ho6F"
      },
      "execution_count": null,
      "outputs": []
    },
    {
      "cell_type": "markdown",
      "source": [
        "# Timing check\n",
        "Check whether the sequence timing is OK and the objects are consistent and compatible with each other and the target scanner"
      ],
      "metadata": {
        "id": "LBhtotHdqYMh"
      }
    },
    {
      "cell_type": "code",
      "source": [
        "(\n",
        "    ok,\n",
        "    error_report,\n",
        ") = seq.check_timing()  # Check whether the timing of the sequence is correct\n",
        "if ok:\n",
        "    print(\"Timing check passed successfully\")\n",
        "else:\n",
        "    print(\"Timing check failed. Error listing follows:\")\n",
        "    [print(e) for e in error_report]"
      ],
      "metadata": {
        "id": "pTKscy94kAJM"
      },
      "execution_count": null,
      "outputs": []
    },
    {
      "cell_type": "markdown",
      "source": [
        "# Visualize the sequence\n",
        "Here we just plot the sequence timing. Due to the limitations of the Colab environment the plots are not live, no interactive zoom-in / zoom-out is possible, therefore it is necessary to use the time_range option"
      ],
      "metadata": {
        "id": "kmNXMnPjq6qn"
      }
    },
    {
      "cell_type": "code",
      "source": [
        "if plot:\n",
        "  print(\"Plot the beginning of the sequence\")\n",
        "  #seq.plot(time_range=[0, 5.22e-3], time_disp=\"us\", show_blocks=True) # just a small initial part\n",
        "  seq.plot(time_range=[0, 8e-3], time_disp=\"ms\")\n",
        "\n",
        "  #\n",
        "  print(\"Plot of the entire sequence\")\n",
        "  seq.plot() # plot the entire sequence"
      ],
      "metadata": {
        "id": "dQWyYL5LkeGq"
      },
      "execution_count": null,
      "outputs": []
    },
    {
      "cell_type": "code",
      "source": [
        "[k_traj_adc, k_traj, t_excitation, t_refocusing, t_adc] = seq.calculate_kspace()\n",
        "plt.figure(figsize=(10, 10))\n",
        "plt.plot(k_traj[0,],k_traj[1,], 'b-')\n",
        "plt.plot(k_traj_adc[0,],k_traj_adc[1,], 'r.')\n",
        "ax = plt.gca()\n",
        "ax.set_aspect('equal', adjustable='box')\n",
        "plt.title('k-space trajectory')\n",
        "plt.xlabel(r'$k_x \\mathregular{\\ /m^{-1}}$')\n",
        "plt.ylabel(r'$k_y \\mathregular{\\ /m^{-1}}$')\n",
        "plt.draw()"
      ],
      "metadata": {
        "id": "WLTTZCHy5nIg"
      },
      "execution_count": null,
      "outputs": []
    },
    {
      "cell_type": "markdown",
      "source": [
        "# (Optionally) Analyze the sequence\n",
        "Very optional slow step, but useful for testing during development\n",
        "e.g. for the real TE, TR or for staying within slew-rate limits, etc."
      ],
      "metadata": {
        "id": "Vk4JivIbnz_1"
      }
    },
    {
      "cell_type": "code",
      "source": [
        "rep = seq.test_report()\n",
        "print(rep)"
      ],
      "metadata": {
        "id": "J0JeFpP773gS"
      },
      "execution_count": null,
      "outputs": []
    },
    {
      "cell_type": "markdown",
      "source": [
        "#Write the .seq file\n",
        "\n",
        "Set the output parameters (definitions) and write the sequence to the file.\n",
        "\n",
        "*Note: The FOV definition is also used by the simulation/reconstruction code below*"
      ],
      "metadata": {
        "id": "iARu27z-nn6B"
      }
    },
    {
      "cell_type": "code",
      "source": [
        "# Prepare the sequence output for the scanner\n",
        "seq.set_definition(key=\"FOV\", value=[fov, fov, slice_thickness*n_slices])\n",
        "seq.set_definition(key=\"Name\", value=\"epi\")\n",
        "\n",
        "if write_seq:\n",
        "  # Write the sequence file\n",
        "  seq.write(seq_filename)\n",
        "  from google.colab import files\n",
        "  files.download(seq_filename)  # Download locally"
      ],
      "metadata": {
        "id": "qnfYzw-Pzx2H"
      },
      "execution_count": null,
      "outputs": []
    },
    {
      "cell_type": "markdown",
      "source": [
        "#Animate trajectory"
      ],
      "metadata": {
        "id": "gqVCYCHYdfZs"
      }
    },
    {
      "cell_type": "code",
      "source": [
        "if animate_seq:\n",
        "  ani = animate(seq, show=False, dt=1e-3, fps=5, show_progress=True) # additional paremeter: time_range=[start, end]\n",
        "  from IPython.display import HTML\n",
        "  display(HTML(ani.to_html5_video()))"
      ],
      "metadata": {
        "id": "SoNtyRAEbq-F"
      },
      "execution_count": null,
      "outputs": []
    },
    {
      "cell_type": "markdown",
      "source": [
        "**Run MR-zero simulation**\n",
        "\n",
        "The code below simulates the whole sequence, and shows the magnitude of the raw k-space profiles."
      ],
      "metadata": {
        "id": "zZJonpjrzHga"
      }
    },
    {
      "cell_type": "code",
      "source": [
        "if simulate:\n",
        "  # Simulate sequence\n",
        "  kdata = simulate_2d(seq, sim_size=[128,128], noise_level=0.5, n_coils=1) # B0_polynomial=[...] optional parameter: B0_offset, Gx, Gy, x^2, y^2, x*y; units??? good value 200\n",
        "\n",
        "  # Display raw data profiles\n",
        "  plt.figure()\n",
        "  plt.imshow(abs(kdata[0].reshape(-1,adc.num_samples)))\n",
        "  plt.title('Magnitude of acquired raw data'); # raw data, not k-space data (odd/even lines not reverted)\n",
        "\n",
        "  # Display the data more correctly\n",
        "  kdata_swapped=np.zeros_like(kdata)\n",
        "  kdata_swapped[:,0::2,:]=kdata[:,0::2,:]\n",
        "  kdata_swapped[:,1::2,:]=kdata[:,1::2,::-1]\n",
        "  plt.figure()\n",
        "  plt.imshow(abs(kdata_swapped[0].reshape(-1,adc.num_samples)))\n",
        "  plt.title('Magnitude of k-space data (odd lines swapped)'); # raw data, not k-space data (odd/even lines not reverted)\n"
      ],
      "metadata": {
        "id": "hLoKdmAhbdvM"
      },
      "execution_count": null,
      "outputs": []
    },
    {
      "cell_type": "markdown",
      "source": [
        "**Reconstruction**"
      ],
      "metadata": {
        "id": "WZZiRMLPb3ul"
      }
    },
    {
      "cell_type": "code",
      "source": [
        "if simulate:\n",
        "  rec = reconstruct(kdata, seq, trajectory_delay=0e-6, cartesian=False) # for the trajectory delay to work with the basic (non-ramp-sampling EPI) cartesian=False is needed\n",
        "  # need to invert data dimentions because the reconstruction code uses iFFT to go from k-space to image space\n",
        "  rec=rec[::-1,::-1]\n",
        "\n",
        "  plt.figure()\n",
        "  plt.imshow(abs(rec), origin='lower');"
      ],
      "metadata": {
        "id": "zeEk_c0Ob6jE"
      },
      "execution_count": null,
      "outputs": []
    },
    {
      "cell_type": "markdown",
      "source": [
        "# Exercises (getting familiar with EPI)\n",
        "* **Familiarize yourself with the sequence**: find parameters to control FOV, spatial resolution, slice number and thickness, and readout bandwidth.\n",
        "* **Implement an additional option for suppressing / inverting phase encoding**: one posibility is to add a switch `pe_switch` or similar variable to the \"high-level sequence parameters\" section taking values of (1,0,-1) and implement necessary code alternations. Known limitation of the code: the the image reconstruction will crash without phase encoding.\n",
        "* **Experiment with B0_polynomial and pe_switch**, modify echo spacing by testing various values of `ro_duration` and visualize geometric distortions. Enhance distordion appearence by inverting the PE sign. `B0_polynomial` is an optional parameter to the `simulate_2d()` call and can be specified as `B0_polynomial=[0,0,0,0,0,0]`. The later setting will also reset the default (measured) B0 field map provided with the phantom data set. Setting any of the values in the array to non-zeros will induce corresponding spatial field term, see the comment to the `simulate_2d()` call.  \n",
        "* **Check yourself**\n",
        "  1. What is the native Pulseq unit for the gradient strength?\n",
        "  2. Can you read the current spatial resolution from the k-space plot?\n",
        "  3. What is the Pulseq native unit for the RF amplitude?\n",
        "  4. Why certain combinations of matrix size and readout duration are not possible?\n"
      ],
      "metadata": {
        "id": "f1q5xIpisA89"
      }
    }
  ],
  "metadata": {
    "colab": {
      "provenance": [],
      "include_colab_link": true
    },
    "kernelspec": {
      "display_name": "Python 3",
      "name": "python3"
    }
  },
  "nbformat": 4,
  "nbformat_minor": 0
}