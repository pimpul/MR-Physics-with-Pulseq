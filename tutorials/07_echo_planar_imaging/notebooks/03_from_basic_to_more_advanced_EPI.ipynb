{
  "cells": [
    {
      "cell_type": "markdown",
      "metadata": {
        "id": "view-in-github",
        "colab_type": "text"
      },
      "source": [
        "<a href=\"https://colab.research.google.com/github/pulseq/MR-Physics-with-Pulseq/blob/main/tutorials/07_echo_planar_imaging/notebooks/03_from_basic_to_more_advanced_EPI.ipynb\" target=\"_parent\"><img src=\"https://colab.research.google.com/assets/colab-badge.svg\" alt=\"Open In Colab\"/></a>"
      ]
    },
    {
      "cell_type": "markdown",
      "source": [
        "# Towards more advanced EPI sequence\n",
        "\n",
        "For the first-time use select Runtime->Run All (or hit Ctrl+F9) as thie initial setup of the environment takes about a minute. In a mean time scroll down to familiarize yourself with the sequence code.\n",
        "\n",
        "**Simulations with MR0 is not compatible with more advanced features of this notebook, therefore they were removed**\n",
        "\n",
        "The exercises are at the at of the notebook"
      ],
      "metadata": {
        "id": "mJe7X9UGeWF1"
      }
    },
    {
      "cell_type": "markdown",
      "source": [
        "# Initial package set-up\n",
        "This is a necessary step for the Colab environment, and it is only slow on the first run"
      ],
      "metadata": {
        "id": "y-JTbHumqEST"
      }
    },
    {
      "cell_type": "code",
      "source": [
        "try:\n",
        "  import pypulseq as mr\n",
        "  print(\"pypulseq package is readily available\\n\")\n",
        "\n",
        "except ImportError or ModuleNotFoundError:\n",
        "  #!pip install git+https://github.com/imr-framework/pypulseq.git\n",
        "  !pip install git+https://github.com/FrankZijlstra/pypulseq.git@bugfixes\n",
        "  #!pip install -q mrzerocore git+https://github.com/imr-framework/pypulseq.git\n",
        "  # Frank's utils\n",
        "  !wget https://raw.githubusercontent.com/pulseq/MR-Physics-with-Pulseq/main/utils/utils.py"
      ],
      "metadata": {
        "id": "1MmzSDftfM0Z"
      },
      "execution_count": null,
      "outputs": []
    },
    {
      "cell_type": "markdown",
      "source": [
        "# Python imports"
      ],
      "metadata": {
        "id": "LTyeejePqQVh"
      }
    },
    {
      "cell_type": "code",
      "source": [
        "import math\n",
        "import warnings\n",
        "import numpy as np\n",
        "from matplotlib import pyplot as plt\n",
        "\n",
        "import pypulseq as mr\n",
        "\n",
        "# Frank's utils\n",
        "from utils import animate, simulate_2d, reconstruct"
      ],
      "metadata": {
        "id": "HmPW2QurfZcW"
      },
      "execution_count": null,
      "outputs": []
    },
    {
      "cell_type": "markdown",
      "source": [
        "# Set high-level sequence parameters\n",
        "Use the code block below to set high-level parameters such as FOV, spatial resolution, etc..."
      ],
      "metadata": {
        "id": "yXWZqRmzdLfh"
      }
    },
    {
      "cell_type": "code",
      "source": [
        "# Define FOV, resolution and other parameters\n",
        "fov = 220e-3\n",
        "Nx = 60\n",
        "Ny = 60\n",
        "slice_thickness = 4e-3  # Slice thickness\n",
        "n_slices = 1\n",
        "ro_duration=1200e-6 # duration of the ADC / readout event, defailt: 1200us, 240us still works\n",
        "rf_duration=2.5e-3\n",
        "pe_switch = 1 # 1, 0 or -1 -- option to disable or invert phase encoding\n",
        "\n",
        "# Set system limits\n",
        "system = mr.Opts(\n",
        "    max_grad=32,\n",
        "    grad_unit=\"mT/m\",\n",
        "    max_slew=130,\n",
        "    slew_unit=\"T/m/s\",\n",
        "    rf_ringdown_time=20e-6,\n",
        "    rf_dead_time=100e-6,\n",
        "    adc_dead_time=10e-6,\n",
        ")\n",
        "\n",
        "# More advansed options and switches. you may chose to disable some of these options to save time in the exercises\n",
        "plot: bool = True\n",
        "write_seq: bool = True\n",
        "seq_filename: str = \"epi_pypulseq.seq\""
      ],
      "metadata": {
        "id": "IEtZ-QF4f-X8"
      },
      "execution_count": null,
      "outputs": []
    },
    {
      "cell_type": "markdown",
      "source": [
        "# Create Pulseq objects\n",
        "Create all kinds of objects that we will need in the sequence, such as the slice selective RF pulse, slice selection and refocusing gradients, etc..."
      ],
      "metadata": {
        "id": "2sD8uLXn1iSH"
      }
    },
    {
      "cell_type": "code",
      "source": [
        "# Create 90 degree slice selection pulse and gradient\n",
        "rf, gz, gz_reph = mr.make_sinc_pulse(\n",
        "    flip_angle=np.pi / 2,\n",
        "    system=system,\n",
        "    duration=rf_duration,\n",
        "    slice_thickness=slice_thickness,\n",
        "    apodization=0.5,\n",
        "    time_bw_product=4,\n",
        "    return_gz=True,\n",
        ")\n",
        "\n",
        "# Define other gradients and ADC events\n",
        "delta_k = 1 / fov\n",
        "k_width = Nx * delta_k\n",
        "dwell_time = ro_duration / Nx\n",
        "flat_time = np.ceil(ro_duration / system.grad_raster_time) * system.grad_raster_time  # round-up to the gradient raster\n",
        "gx = mr.make_trapezoid(\n",
        "    channel=\"x\",\n",
        "    system=system,\n",
        "    amplitude=k_width / ro_duration,\n",
        "    flat_time=flat_time,\n",
        ")\n",
        "adc = mr.make_adc(\n",
        "    num_samples=Nx,\n",
        "    duration=ro_duration,\n",
        "    delay=gx.rise_time + flat_time / 2 - (dwell_time*Nx) / 2,\n",
        "    system=system,\n",
        ")\n",
        "\n",
        "# Pre-phasing gradients (in the shortest possible time or filling the available time)\n",
        "gx_pre = mr.make_trapezoid(\n",
        "    channel=\"x\", system=system, area=-gx.area / 2, duration=mr.calc_duration(gz_reph),\n",
        ")\n",
        "gy_pre = mr.make_trapezoid(\n",
        "    channel=\"y\", system=system, area=(Ny / 2 - 1) * delta_k * pe_switch, duration=mr.calc_duration(gz_reph),\n",
        ")\n",
        "\n",
        "# align gradients (calculate their delays)\n",
        "gx_pre, gy_pre, gz_reph=mr.align(right=[gx_pre],left=[gy_pre, gz_reph])\n",
        "\n",
        "# Phase blip in the shortest possible time (assuming a triangle is possible)\n",
        "dur = np.ceil(2 * np.sqrt(delta_k / system.max_slew) / system.grad_raster_time) * system.grad_raster_time\n",
        "gy = mr.make_trapezoid(channel=\"y\", system=system, area=-delta_k * pe_switch, duration=dur)\n",
        "\n",
        "print('achieved echo spacing is {}us'.format(round(1e6*(mr.calc_duration(gx)+mr.calc_duration(gy)))))"
      ],
      "metadata": {
        "id": "S0txuBhvhFkz"
      },
      "execution_count": null,
      "outputs": []
    },
    {
      "cell_type": "markdown",
      "source": [
        "# Construct the sequence\n",
        "Contruct the sequence object and fill it up block-by-block"
      ],
      "metadata": {
        "id": "9Tm2D8tI7zxr"
      }
    },
    {
      "cell_type": "code",
      "source": [
        "seq = mr.Sequence(system)  # Create a new sequence object\n",
        "\n",
        "# populate the sequence object with event blocks\n",
        "for s in range(n_slices):\n",
        "  rf.freq_offset = gz.amplitude * slice_thickness * (s - (n_slices - 1) / 2)\n",
        "  seq.add_block(rf, gz)\n",
        "  seq.add_block(gx_pre, gy_pre, gz_reph)\n",
        "  gx_curr=gx\n",
        "  for i in range(Ny):\n",
        "    seq.add_block(gx_curr, adc)  # Read one line of k-space out\n",
        "    if i!=Ny-1:\n",
        "      seq.add_block(gy)  # Phase blip\n",
        "      gx_curr = mr.scale_grad(gx_curr,-1)  # Reverse polarity of read gradient"
      ],
      "metadata": {
        "id": "uHCgYfk5ho6F"
      },
      "execution_count": null,
      "outputs": []
    },
    {
      "cell_type": "markdown",
      "source": [
        "# Timing check\n",
        "Check whether the sequence timing is OK and the objects are consistent and compatible with each other and the target scanner"
      ],
      "metadata": {
        "id": "LBhtotHdqYMh"
      }
    },
    {
      "cell_type": "code",
      "source": [
        "(\n",
        "    ok,\n",
        "    error_report,\n",
        ") = seq.check_timing()  # Check whether the timing of the sequence is correct\n",
        "if ok:\n",
        "    print(\"Timing check passed successfully\")\n",
        "else:\n",
        "    print(\"Timing check failed. Error listing follows:\")\n",
        "    [print(e) for e in error_report]"
      ],
      "metadata": {
        "id": "pTKscy94kAJM"
      },
      "execution_count": null,
      "outputs": []
    },
    {
      "cell_type": "markdown",
      "source": [
        "# Visualize the sequence\n",
        "Here we just plot the sequence timing. Due to the limitations of the Colab environment the plots are not live, no interactive zoom-in / zoom-out is possible, therefore it is necessary to use the time_range option"
      ],
      "metadata": {
        "id": "kmNXMnPjq6qn"
      }
    },
    {
      "cell_type": "code",
      "source": [
        "if plot:\n",
        "  print(\"Plot the beginning of the sequence\")\n",
        "  #seq.plot(time_range=[0, 5.22e-3], time_disp=\"us\", show_blocks=True) # just a small initial part\n",
        "  seq.plot(time_range=[0, 8e-3], time_disp=\"ms\")\n",
        "\n",
        "  #\n",
        "  print(\"Plot of the entire sequence\")\n",
        "  seq.plot() # plot the entire sequence"
      ],
      "metadata": {
        "id": "dQWyYL5LkeGq"
      },
      "execution_count": null,
      "outputs": []
    },
    {
      "cell_type": "code",
      "source": [
        "[k_traj_adc, k_traj, t_excitation, t_refocusing, t_adc] = seq.calculate_kspace()\n",
        "plt.figure(figsize=(10, 10))\n",
        "plt.plot(k_traj[0,],k_traj[1,], 'b-')\n",
        "plt.plot(k_traj_adc[0,],k_traj_adc[1,], 'r.')\n",
        "ax = plt.gca()\n",
        "ax.set_aspect('equal', adjustable='box')\n",
        "plt.title('k-space trajectory')\n",
        "plt.xlabel(r'$k_x \\mathregular{\\ /m^{-1}}$')\n",
        "plt.ylabel(r'$k_y \\mathregular{\\ /m^{-1}}$')\n",
        "plt.draw()"
      ],
      "metadata": {
        "id": "WLTTZCHy5nIg"
      },
      "execution_count": null,
      "outputs": []
    },
    {
      "cell_type": "markdown",
      "source": [
        "# (Optionally) Analyze the sequence\n",
        "Very optional slow step, but useful for testing during development\n",
        "e.g. for the real TE, TR or for staying within slew-rate limits, etc."
      ],
      "metadata": {
        "id": "Vk4JivIbnz_1"
      }
    },
    {
      "cell_type": "code",
      "source": [
        "rep = seq.test_report()\n",
        "print(rep)"
      ],
      "metadata": {
        "id": "J0JeFpP773gS"
      },
      "execution_count": null,
      "outputs": []
    },
    {
      "cell_type": "markdown",
      "source": [
        "#Write the .seq file\n",
        "\n",
        "Set the output parameters (definitions) and write the sequence to the file.\n",
        "\n",
        "*Note: The FOV definition is also used by the simulation/reconstruction code below*"
      ],
      "metadata": {
        "id": "iARu27z-nn6B"
      }
    },
    {
      "cell_type": "code",
      "source": [
        "# Prepare the sequence output for the scanner\n",
        "seq.set_definition(key=\"FOV\", value=[fov, fov, slice_thickness*n_slices])\n",
        "seq.set_definition(key=\"Name\", value=\"epi\")\n",
        "\n",
        "if write_seq:\n",
        "  # Write the sequence file\n",
        "  seq.write(seq_filename)\n",
        "  from google.colab import files\n",
        "  files.download(seq_filename)  # Download locally"
      ],
      "metadata": {
        "id": "qnfYzw-Pzx2H"
      },
      "execution_count": null,
      "outputs": []
    },
    {
      "cell_type": "markdown",
      "source": [
        "# Exercises (from basic to more advanced EPI)\n",
        "Here you find a list of the proposed exercises, explanations and code snippets can be found below.\n",
        "1. add fat suration\n",
        "2. add distortion visualization (as an SMS pulse applied along Y direction followed by a spoiler, or alternatively a set of slices). Load and reconstruct data with varying ro_bandwidth / echo spacing & pe_direction\n",
        "3. add ramp sampling\n",
        "Once done, proceed to the experimental part (exercise 04) to reconstruct experimental data with and without fat saturation, with distortion visualisation, etc."
      ],
      "metadata": {
        "id": "f1q5xIpisA89"
      }
    },
    {
      "cell_type": "markdown",
      "source": [
        "#Exercise 1: fat taturation\n",
        "\n",
        "As briefly shown in the presentation, fat signals present a substantial challenge for EPI. With typical settings fat signal appears displaced by about 1/4 of the FOV in the phase-encoding dimension, typically overlapping with the anatomy of interest.\n",
        "\n",
        "The most basic fat saturation approach consists in introducing a frequency-selective RF pulse followed by a spoiler gradient. This pulse is designed to primarily saturate the fat signals while leaving water protons largely unaffected. This is possible due to a substantial chemical shift between water and fat (about 3.3 to 3.5 ppm). In fact, the fat resonance in vivo is quite broad, therefore there are a variety of values that can be found in the literature. Also different RF pulses can be employed for fat saturation, in this example we choose a Gaussian pulse. To achieve a more complete saturation we overflip the magnetization beyond 90° (110° is known to work well).\n"
      ],
      "metadata": {
        "id": "54ImwZxqGF8X"
      }
    },
    {
      "cell_type": "markdown",
      "source": [
        "#Exercise 1 hints\n",
        "The code in the following cell can be used to generate the respective pulses.\n",
        "\n",
        "*Note how the area of the spoiler gradient is calculated.* Can you explain the physical meaning of the used values?\n",
        "\n",
        "Then a block containing both these Pulseq objects can be added prior to the slice-selective RF excitation block in the sequence generation loop. Aim at something like:\n",
        "\n",
        "![image.png](data:image/png;base64,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)"
      ],
      "metadata": {
        "id": "qAlpg1PJKbNB"
      }
    },
    {
      "cell_type": "code",
      "source": [
        "sat_ppm = -3.45 # assumed fat resonance shift\n",
        "B0 = 2.89       # this is Siemens' 3T :-)\n",
        "sat_freq = sat_ppm * 1e-6 * B0 * system.gamma\n",
        "# create RF pulse\n",
        "rf_fs = mr.make_gauss_pulse(\n",
        "    flip_angle=110 * np.pi / 180,\n",
        "    system=system,\n",
        "    duration=8e-3,\n",
        "    bandwidth=np.abs(sat_freq),\n",
        "    freq_offset=sat_freq,\n",
        "    use='saturation',\n",
        ")\n",
        "# create spoiler gradient which can be played out in the same block\n",
        "gz_fs = mr.make_trapezoid(\n",
        "    channel=\"z\", system=system, delay=mr.calc_duration(rf_fs), area=1/1e-4\n",
        ")"
      ],
      "metadata": {
        "id": "cVwCxZWMLLi0"
      },
      "execution_count": null,
      "outputs": []
    },
    {
      "cell_type": "markdown",
      "source": [
        "#Exercise 2: saturation bands for distortion visualization\n",
        "Phantoms with rectangular geometric structures, e.g. with bars or grids, can be used for visualizing geometric distortions in EPI. However such phantoms may be unavailable and/or expensive, especially bearing in mind that the phantom should have favorable magnetic homogeniety propperties, e.g. all materials should have magnetic susceptibility close to that of whater and the overall shape should be spherical or cylindrical. Additionally, for an appealing visual apearence it might be desirable to aling the phantom to the image encoding coordinates.\n",
        "\n",
        "A viable alternative to that is to create the desired features in the images of a homogeneous water phantom by applying appropriate preparation pulses.  This exercise consists of three steps:\n",
        "\n",
        "1. creating a multiband excitation pulse and applying it in combination with a slice-slection gradient along the PE dimention of the EPI readout\n",
        "2. creaing a combined gradient pulse including the slice selection gradient and a spoiler gradient to make it compatible with a single Pulseq block\n",
        "3. adding a corresponding block to the sequence generation loop prior to the excitation (or prior to the fat saturation)"
      ],
      "metadata": {
        "id": "auwwzjW3bs-U"
      }
    },
    {
      "cell_type": "markdown",
      "source": [
        "#Exercise 2 hint 1\n",
        "Although one could use the SMS/multiband pulse generation routine from the RF Design course on Day 1, here we propose to create a multiband pulse from single slices manually. We rely on the small tip angle approximation, which si sufficient for our purposes (achieving a reasonable visual appearance).\n",
        "\n",
        "The original pulse shape needs to be frequency and phase modulated to achieve shifted slice excitation and the resulted modulated pulses need to be added all together. The modulation frequency required to achieve desired slice shifts can conviniently be extracted from the slice selection gradient."
      ],
      "metadata": {
        "id": "CIaOZnK8g-_8"
      }
    },
    {
      "cell_type": "code",
      "source": [
        "mb_thick=6e-3  # thinckness of the saturated bands\n",
        "mb_step=30e-3  # spacing between the centers of the bands\n",
        "mb_rf_dur=5e-3 # duration of the RF pulse\n",
        "mb_count=5     # number of bands\n",
        "\n",
        "# create the initial pulse\n",
        "rf_mb, gy_mb, _ = mr.make_sinc_pulse(\n",
        "    flip_angle=np.pi / 2,\n",
        "    system=system,\n",
        "    duration=mb_rf_dur,\n",
        "    slice_thickness=mb_thick,\n",
        "    apodization=0.5,\n",
        "    time_bw_product=4,\n",
        "    use='saturation',\n",
        "    return_gz=True,\n",
        ")\n",
        "gy_mb.channel='y' # need to fix the channel for the gradient pulse\n",
        "# create a modulated shape\n",
        "mb_s=np.zeros_like(rf_mb.signal,dtype=np.complex128)\n",
        "tc,_=mr.calc_rf_center(rf_mb)\n",
        "for o in range(mb_count):\n",
        "  # calculate frequency offset. we use the amplitude of the slice selection gradient generated above (which is in units of Hz/m) to convert mb_step to the frequency domain\n",
        "  fo = gy_mb.amplitude * mb_step * (o - (mb_count - 1) / 2)\n",
        "  # phase offset is optional in the context of this exercise and is a bit of a 'cream on top of the cake' - it just allows to redice the peak amplitude / SAR\n",
        "  po = np.pi*(o-(mb_count-1)/2) - 2*np.pi*fo*tc\n",
        "\n",
        "  s = rf_mb.signal*np.exp(1j*(2*np.pi*fo*rf_mb.t + po))\n",
        "\n",
        "  mb_s += rf_mb.signal*np.exp(1j*(2*np.pi*fo*rf_mb.t + po))\n",
        "# replace the original shape with a modulated one\n",
        "rf_mb.signal=mb_s"
      ],
      "metadata": {
        "id": "uOF7hRNriVa2"
      },
      "execution_count": null,
      "outputs": []
    },
    {
      "cell_type": "code",
      "source": [
        "# just a preview of the multiband saturation block, this code is should not be copied to the final sequence\n",
        "seq1 = mr.Sequence(system)\n",
        "seq1.add_block(rf_mb,gy_mb)\n",
        "seq1.plot()\n",
        "del seq1"
      ],
      "metadata": {
        "id": "02Wqd4BztJ3v"
      },
      "execution_count": null,
      "outputs": []
    },
    {
      "cell_type": "markdown",
      "source": [
        "#Exercise 2 hint 2\n",
        "Although not strictly needed in this sequence from the MR pysics perspective, let us take an occasion to demonstrate a gradient surgery technique of Pulseq. Here, you can use the readily available slice selection gradient and calculate the additional spoiler gradient with a desired area to be attached to the back of the slice gradient."
      ],
      "metadata": {
        "id": "A3OcdMjctpSY"
      }
    },
    {
      "cell_type": "code",
      "source": [
        "# create the spoler gradient. we will not use it directly, thus the suffix 'tmp'\n",
        "gy_mb_tmp1,_,_=mr.make_extended_trapezoid_area(area=1/1e-4, channel='y', grad_start=gy_mb.amplitude, grad_end=0, system=system)\n",
        "gy_mb_tmp2=mr.split_gradient_at(grad=gy_mb, time_point=gy_mb.delay+gy_mb.rise_time+gy_mb.flat_time)[0] # we are only interested in the first part hense [0]\n",
        "gy_mb_tmp1.delay=mr.calc_duration(gy_mb_tmp2)\n",
        "gy_mb_comb=mr.add_gradients(grads=(gy_mb_tmp2,gy_mb_tmp1),system=system)"
      ],
      "metadata": {
        "id": "tsBX01GluTvw"
      },
      "execution_count": null,
      "outputs": []
    },
    {
      "cell_type": "code",
      "source": [
        "# just a preview of the multiband saturation block, this code is should not be copied to the final sequence\n",
        "seq1 = mr.Sequence(system)\n",
        "seq1.add_block(rf_mb,gy_mb_comb)\n",
        "seq1.plot()\n",
        "del seq1"
      ],
      "metadata": {
        "id": "Iywj7oeSEDQg"
      },
      "execution_count": null,
      "outputs": []
    },
    {
      "cell_type": "markdown",
      "source": [
        "#Exercise 3: Optimized EPI readout with ramp sampling\n",
        "The initial basic EPI sequence had two substantial shortcomings limiting the achievable echo spacing, $T_{ESP}$:\n",
        "1. Phase encoding blips were placed into separate blocks\n",
        "2. ADC was on only during the flat part of the readout gradient\n",
        "\n",
        "We address the first issue by temporally overlapping blips with the ramps of the readout gradients. To achieve a symmetrical solution a half of the blip needs to be played out during the ramp down of the *current* readout gradient, whereas the other half follows at the time of the next readout ramp up. Another way of looking at it is to see the readout gradient as a continous wave and the blips are centered around the time when the readout gradient amplitude crosses zero.\n",
        "\n",
        "Ramp sampling is a technique for improving ADC sampling efficieny in situations when strong gradients are used for signal readout, e.g. in EPI or in ultra-short TE (UTE) imaging.\n",
        "\n",
        "Calculation of the readout gradient for EPI with ramp sampling is quite tricky. On one hand the readout gradient is a simple trapezoid, but the both freon and tail parts of this trapezoid need to be excluded from sampling (and correspondingly the area calculation) because these times are taken by the two halves of the blip gradients. Due to the fact that the *vortexes* and the total duration of trapezoid need to be aligned to the gradient raster time, the precise calculation of such truncated trapezoid gradient can only be done numerically. To aid educational objectives of this course we propose another approach, which may potentially result in some minor departures of the most optiml timing. The algorithm is as follows:\n",
        "\n",
        "1. calculate timing of the blip assuming it is devisible into two equal parts both aligned to the gradient raster\n",
        "2. estimate the area under two corners of the trapezoid (beginning and end) that are overlapped by the blips assuming that the readout gradient is ramping up from 0 at the maximum system rate (or ramping down to 0 at the same rate)\n",
        "3. create a shortest possible trapezoid with the area corresponding to the covered k-space extent **plus the area calculated in the point#2 above**\n",
        "4. due to the rounding up to the gradient raster, the ramps of the gradient produced in point#3 are likely to be somewhat slower than the initially assumed maximum slew rate (see point#2). Therefore the area under the truncated trapezoid is likely a bit larger than required, which can be corrected by scaling the gradient aplitude down without changing its timing\n",
        "\n",
        "Now that the timing of the readout gradient has been defined, it is possible to finish the calculation of the blips. At this point it is reasonable to notice that Pulseq block boundaries may cross gradients at non-zero values but cannot cross ADC objects (or RF pulses). Bearing in mind that ADC objects are surrounded by dead times on the order of 20$\\mu$s, the most straigtforward block structure is to align blocks with the readout gradient zero points. It is then clear that the blips need to be split in halves.\n",
        "\n",
        "If we consider one gradient echo period in the middle of the gradient echo train, we notice that the PE gradient starts at the PE blip amplitude, ramps down to 0 and then ramps up back to the PE blip amplitude after the ADC sampling period. Such gradient object, although atypical in Siemens IDEA and on many other platforms, si completely normal in Pulseq and can be created by mr.make_extended_trapezoid() or by adding two gradient part using the mr.add_gradients() function. Note that for the first gradient echo the ramp-down part at the beginning has to be skipped. Similarly, for the last gradient echo the blip-ramp-up part needs to be skipped.\n",
        "\n",
        "The ADC object calculation is also quite trickly. As we use ramp sampling, so we have to calculate the dwell time and the number of samples, which are will be quite different from $N_x$ and $T_{readout}/N_x$, respectively.\n",
        "On goal is fullfill the Nyquist condition at the time when the readout gradient reaches its full amplitude, so the dwell time can be estimated from the desireg k-space step and the gradient amplitude, followed by a ramp-down to the ADC raster time. Thereafter the number of samples can be calculated to fill the specified readout duration. BTW, there may me platform-specific limitations applicable at this point, for instance on Siemens the number of ADC samples must be divisible by 4."
      ],
      "metadata": {
        "id": "flxhGtsa4miR"
      }
    },
    {
      "cell_type": "markdown",
      "source": [
        "#Exercise 3 hint 1\n",
        "here you may find a code example implementing the above logic for the redout gradient"
      ],
      "metadata": {
        "id": "TvzCwAoJGx30"
      }
    },
    {
      "cell_type": "code",
      "source": [
        "# Phase blip in shortest possible time (assuming a triangle is possible)\n",
        "# This time rounding up the duration to 2x gradient raster time to make sure it can be split in two halves\n",
        "blip_duration = np.ceil(2 * np.sqrt(delta_k / system.max_slew) / system.grad_raster_time / 2) * system.grad_raster_time * 2\n",
        "gy = mr.make_trapezoid(channel=\"y\", system=system, area=-delta_k, duration=blip_duration)\n",
        "\n",
        "# Readout gradient is a truncated trapezoid with dead times at the beginning and at the end each equal to a half of\n",
        "# blip duration. The area between the blips should be defined by k_width. We do a two-step calculation: we first\n",
        "# increase the area assuming maximum slew rate and then scale down the amplitude to fix the area\n",
        "extra_area = blip_duration / 2 * blip_duration / 2 * system.max_slew\n",
        "gx = mr.make_trapezoid(\n",
        "   channel=\"x\",\n",
        "   system=system,\n",
        "   area=k_width + extra_area,\n",
        "   duration=ro_duration + blip_duration,\n",
        ")\n",
        "actual_area = gx.area - 2 * gx.amplitude / gx.rise_time * blip_duration / 2 * blip_duration / 2 / 2\n",
        "gx=mr.scale_grad(gx, k_width/actual_area)\n",
        "\n",
        "# Read pre-phasing gradient (filling the available time)\n",
        "gx_pre = mr.make_trapezoid(\n",
        "    channel=\"x\", system=system, area=-gx.area / 2, duration=mr.calc_duration(gz_reph),\n",
        ")"
      ],
      "metadata": {
        "id": "ExbuuhcGG6Zm"
      },
      "execution_count": null,
      "outputs": []
    },
    {
      "cell_type": "markdown",
      "source": [
        "#Exercise 3 hint 2\n",
        "Here is the code examplifying the ADC calculation"
      ],
      "metadata": {
        "id": "ycDiQCwyHTrP"
      }
    },
    {
      "cell_type": "code",
      "source": [
        "# calculate ADC - it is quite trickly\n",
        "# we use ramp sampling, so we have to calculate the dwell time and the\n",
        "# number of samples, which are will be quite different from Nx and\n",
        "# readoutTime/Nx, respectively.\n",
        "adc_dwell_Nyquist=delta_k/gx.amplitude # dwell time on the top of the plato\n",
        "# round-down dwell time to system.adcRasterTime (100 ns on Siemens)\n",
        "adc_dwell=np.floor(adc_dwell_Nyquist/system.adc_raster_time)*system.adc_raster_time\n",
        "adc_samples=np.floor(ro_duration/adc_dwell/4)*4 # on Siemens the number of ADC samples need to be divisible by 4\n",
        "# it is open for discussion, whether the above line should use mp.floor(), np.round() or np.ceil(). The danger of the later two is that the duration of the ADC may grow beyond the duration of the truncated trapezoid and overlap with the blips\n",
        "adc = mr.make_adc(num_samples=adc_samples, dwell=adc_dwell)\n",
        "\n",
        "# realign the ADC with respect to the gradient\n",
        "time_to_center=adc.dwell*(adc_samples/2) # Pulseq (and Siemens) define the samples to happen in the center of the dwell period\n",
        "adc.delay=np.round((gx.rise_time+gx.flat_time/2-time_to_center)/system.rf_raster_time)*system.rf_raster_time\n",
        "          # above we adjust the delay to align the trajectory with the gradient.\n",
        "          # We have to aligh the delay to seq.rfRasterTime (1us)\n",
        "          # this rounding actually makes the sampling points on odd and even readouts\n",
        "          # to appear misalligned. However, on the real hardware this misalignment is\n",
        "          # much stronger anyways due to the grdient delays"
      ],
      "metadata": {
        "id": "psolFDSeHXYA"
      },
      "execution_count": null,
      "outputs": []
    },
    {
      "cell_type": "markdown",
      "source": [
        "#Exercise 3 hint 3\n",
        "To finish the blip gradient we use mr.split() and mr_add_gradients() functions. Of course, we need tto remember about the pe_switch functionality"
      ],
      "metadata": {
        "id": "BGxZyiaaHp1R"
      }
    },
    {
      "cell_type": "code",
      "source": [
        "# finish the blip gradient calculation\n",
        "# split the blip into two halves and produce a combined synthetic gradient\n",
        "gy_blip_parts = mr.split_gradient_at(grad=gy, time_point=blip_duration/2, system=system)\n",
        "gy_blip_up,gy_blip_down,_=mr.align(right=gy_blip_parts[0],left=(gy_blip_parts[1],gx))\n",
        "# now for inner echos create a special gy gradient, that will ramp down to 0, stay at 0 for a while and ramp up again\n",
        "gy_blip_down_up=mr.add_gradients(grads=(gy_blip_down, gy_blip_up), system=system)\n",
        "\n",
        "# pe_switch support\n",
        "gy_blip_up=mr.scale_grad(gy_blip_up,pe_switch);\n",
        "gy_blip_down=mr.scale_grad(gy_blip_down,pe_switch);\n",
        "gy_blip_down_up=mr.scale_grad(gy_blip_down_up,pe_switch);\n",
        "\n",
        "print('achieved echo spacing is {}us'.format(round(1e6*mr.calc_duration(gx))))"
      ],
      "metadata": {
        "id": "SnrWIDo4H0UG"
      },
      "execution_count": null,
      "outputs": []
    },
    {
      "cell_type": "markdown",
      "source": [
        "#Exercise 3 hint 4"
      ],
      "metadata": {
        "id": "olzn2xi-MPUg"
      }
    },
    {
      "cell_type": "markdown",
      "source": [
        "If you managed to make it here, you sould be able to implement the EPI sequence loop without further hints ;-)"
      ],
      "metadata": {
        "id": "nXkHnnVbMWke"
      }
    }
  ],
  "metadata": {
    "colab": {
      "provenance": [],
      "collapsed_sections": [
        "qAlpg1PJKbNB",
        "CIaOZnK8g-_8",
        "TvzCwAoJGx30",
        "ycDiQCwyHTrP",
        "BGxZyiaaHp1R",
        "olzn2xi-MPUg"
      ],
      "include_colab_link": true
    },
    "kernelspec": {
      "display_name": "Python 3",
      "name": "python3"
    }
  },
  "nbformat": 4,
  "nbformat_minor": 0
}