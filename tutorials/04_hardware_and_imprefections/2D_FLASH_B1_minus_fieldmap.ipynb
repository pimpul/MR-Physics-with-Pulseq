{
  "nbformat": 4,
  "nbformat_minor": 0,
  "metadata": {
    "colab": {
      "provenance": [],
      "include_colab_link": true
    },
    "kernelspec": {
      "name": "python3",
      "display_name": "Python 3"
    },
    "language_info": {
      "name": "python"
    }
  },
  "cells": [
    {
      "cell_type": "markdown",
      "metadata": {
        "id": "view-in-github",
        "colab_type": "text"
      },
      "source": [
        "<a href=\"https://colab.research.google.com/github/pulseq/MR-Physics-with-Pulseq/blob/main/tutorials/04_hardware_and_imprefections/2D_FLASH_B1_minus_fieldmap.ipynb\" target=\"_parent\"><img src=\"https://colab.research.google.com/assets/colab-badge.svg\" alt=\"Open In Colab\"/></a>"
      ]
    },
    {
      "cell_type": "markdown",
      "source": [
        "# 2D Flash Multi Echo Sequence for B1 minus mapping.\n",
        "\n",
        "A simple 2D Gradient Echo (Flash) sequence is used. Images are acquired using the body coil (BC) and a second time with the local receiver coil array (LC). Differnces in signal amplitude between body coil and local coils represent the coil sensitivity profiles of each local coil element."
      ],
      "metadata": {
        "id": "Vu0eBPaH1RUN"
      }
    },
    {
      "cell_type": "markdown",
      "source": [
        "Initially, the required dependencies are resolved."
      ],
      "metadata": {
        "id": "h0OgR7Ty2lGK"
      }
    },
    {
      "cell_type": "code",
      "execution_count": null,
      "metadata": {
        "id": "EaK3O6GEKDpF"
      },
      "outputs": [],
      "source": [
        "import importlib\n",
        "if importlib.util.find_spec('pypulseq') is None:\n",
        "    !pip install -q mrzerocore git+https://github.com/imr-framework/pypulseq.git\n",
        "\n",
        "import math\n",
        "import numpy as np\n",
        "import matplotlib.pyplot as plt\n",
        "\n",
        "import pypulseq as ps\n",
        "\n",
        "!wget -nc https://raw.githubusercontent.com/pulseq/MR-Physics-with-Pulseq/main/utils/utils.py\n",
        "from utils import animate, simulate_2d, sort_data_implicit, ifft_2d, combine_coils, plot_nd\n",
        "\n",
        "!pip install -q git+https://github.com/imr-framework/pypulseq.git pymapvbvd\n",
        "import mapvbvd\n",
        "\n",
        "from IPython.display import HTML\n",
        "\n"
      ]
    },
    {
      "cell_type": "markdown",
      "source": [
        "System and measurment parameters are defined."
      ],
      "metadata": {
        "id": "mViz18lz23V-"
      }
    },
    {
      "cell_type": "code",
      "source": [
        "# choose the scanner limits\n",
        "sys = ps.Opts(max_grad=32,grad_unit='mT/m',max_slew=180,slew_unit='T/m/s',\n",
        "                 rf_ringdown_time=20e-6,rf_dead_time=100e-6,adc_dead_time=20e-6,grad_raster_time=50*10e-6)\n",
        "\n",
        "# define the sequence\n",
        "seq = ps.Sequence()\n",
        "\n",
        "# Define FOV and resolution\n",
        "fov = 256e-3\n",
        "Nx = 128\n",
        "Ny = 128\n",
        "\n",
        "# Flip angle\n",
        "alpha = 8\n",
        "\n",
        "# Slice parameters\n",
        "slice_thickness = 3e-3\n",
        "\n",
        "# Repetition time TR\n",
        "TR = 48e-3\n",
        "\n",
        "# Multiple echo times (TE)\n",
        "# TE = [7.38e-3, 9.84e-3, 12.0e-3]\n",
        "TE = [12.4e-3]\n",
        "\n",
        "# More in-depth parameters\n",
        "rf_spoiling_inc = 117  # RF spoiling increment\n",
        "\n",
        "# Create alpha-degree slice selection pulse and gradient\n",
        "# rf, gz = ps.make_sinc_pulse(alpha * np.pi / 180, duration=3e-3, slice_thickness=slice_thickness, apodization=0.42, time_bw_product=4, system=sys)\n",
        "rf, gz, _ = ps.make_sinc_pulse(\n",
        "    flip_angle=alpha * np.pi / 180, duration=2.0e-3,\n",
        "    slice_thickness=slice_thickness, apodization=0.42, time_bw_product=4,\n",
        "    system=sys, return_gz=True)\n",
        "# Define other gradients and ADC events\n",
        "deltak = 1 / fov\n",
        "gx = ps.make_trapezoid('x', flat_area=Nx * deltak, flat_time=2.56e-3, system=sys)\n",
        "adc = ps.make_adc(Nx, duration=gx.flat_time, delay=gx.rise_time, system=sys)\n",
        "gx_pre = ps.make_trapezoid('x', area=-gx.area / 2, duration=2.0e-3, system=sys)\n",
        "gz_reph = ps.make_trapezoid('z', area=-gz.area / 2, duration=2.0e-3, system=sys)\n",
        "phase_areas = ((np.arange(Ny) - Ny / 2) * deltak).tolist()\n",
        "\n",
        "# Gradient spoiling\n",
        "gx_spoil = ps.make_trapezoid('x', area=2 * Nx * deltak, system=sys)\n",
        "gz_spoil = ps.make_trapezoid('z', area=4 / slice_thickness, system=sys)\n",
        "\n",
        "# Calculate timing\n",
        "delay_TE = np.ceil((np.array(TE) - ps.calc_duration(gx_pre) - gz.fall_time - gz.flat_time / 2\n",
        "                   - ps.calc_duration(gx) / 2) / seq.grad_raster_time) * seq.grad_raster_time\n",
        "delay_TR = np.ceil((TR - ps.calc_duration(gz) - ps.calc_duration(gx_pre)\n",
        "                   - ps.calc_duration(gx) - delay_TE) / seq.grad_raster_time) * seq.grad_raster_time\n",
        "\n",
        "assert all(delay_TE >= 0)\n",
        "assert all(delay_TR >= ps.calc_duration(gx_spoil,gz_spoil))"
      ],
      "metadata": {
        "id": "GRxN9AhMUzVY"
      },
      "execution_count": null,
      "outputs": []
    },
    {
      "cell_type": "markdown",
      "source": [
        "All objects are combined to define the final sequence."
      ],
      "metadata": {
        "id": "zSBhurcOiYRY"
      }
    },
    {
      "cell_type": "code",
      "source": [
        "\n",
        "rf_phase = 0\n",
        "rf_inc = 0\n",
        "\n",
        "# Loop over phase encodes and define sequence blocks\n",
        "for i in range(Ny):\n",
        "    for c in range(len(TE)):\n",
        "        rf.phase_offset = rf_phase / 180 * np.pi\n",
        "        adc.phase_offset = rf_phase / 180 * np.pi\n",
        "        rf_inc = (rf_inc + rf_spoiling_inc) % 360.0\n",
        "        rf_phase = (rf_phase + rf_inc) % 360.0\n",
        "\n",
        "        seq.add_block(rf, gz)\n",
        "        gy_pre = ps.make_trapezoid('y', area=phase_areas[i], duration=1.0e-3, system=sys)\n",
        "        seq.add_block(gx_pre, gy_pre, gz_reph)\n",
        "        seq.add_block(ps.make_delay(delay_TE[c]))\n",
        "        seq.add_block(gx, adc)\n",
        "        gy_pre.amplitude = -gy_pre.amplitude\n",
        "        seq.add_block(ps.make_delay(delay_TR[c]), gx_spoil, gy_pre, gz_spoil)\n"
      ],
      "metadata": {
        "id": "PqDCFzqSUvEg"
      },
      "execution_count": null,
      "outputs": []
    },
    {
      "cell_type": "markdown",
      "source": [
        "Here, the sequence is ploted."
      ],
      "metadata": {
        "id": "OPNA7LgrsYWc"
      }
    },
    {
      "cell_type": "code",
      "source": [
        "# Check whether the timing of the sequence is correct\n",
        "ok, error_report = seq.check_timing()\n",
        "if ok:\n",
        "    print(\"Timing check passed successfully\")\n",
        "else:\n",
        "    print(\"Timing check failed. Error listing follows:\")\n",
        "    [print(e) for e in error_report]\n",
        "\n",
        "# Display the sequence\n",
        "# seq.plot()\n",
        "nn=6\n",
        "seq.plot(time_range=np.array([0, nn])*TR, time_disp=\"ms\")"
      ],
      "metadata": {
        "id": "2JNkP6KYsWCh"
      },
      "execution_count": null,
      "outputs": []
    },
    {
      "cell_type": "markdown",
      "source": [
        "Prepare the sequence output for the scanner\n",
        "Optional: Here you can download the resulting pulseq .seq file"
      ],
      "metadata": {
        "id": "KRlMTwUtybaM"
      }
    },
    {
      "cell_type": "code",
      "source": [
        "experiment_id = '2D_FLASH_Coil_Sensitivity'\n",
        "\n",
        "# Prepare the sequence output for the scanner\n",
        "seq.set_definition('FOV', [fov, fov, slice_thickness])\n",
        "seq.set_definition('Name', 'FL2D')\n",
        "seq.write(experiment_id + '.seq')\n",
        "\n",
        "from google.colab import files\n",
        "files.download(experiment_id + '.seq')  # Download locally"
      ],
      "metadata": {
        "id": "1LmmYjrUyi7T"
      },
      "execution_count": null,
      "outputs": []
    },
    {
      "cell_type": "markdown",
      "source": [
        "On the scanner, run the sequence once using the local receiver coil you want to map and once using the body coil or local transmit coil.\n",
        "\n",
        "Here, an example data set is read in and coil sensitivities are calculated. Two data sets are available, one phantom and an in vivo data set.\n",
        "\n",
        "No masking or fitting is used. Thicker slices result in higher SNR."
      ],
      "metadata": {
        "id": "xAUvI4n9fkJn"
      }
    },
    {
      "cell_type": "code",
      "source": [
        "# from inspect import EndOfBlock\n",
        "# import mapvbvd\n",
        "\n",
        "def fft_2d(x):\n",
        "    return np.fft.fftshift(np.fft.fftn(np.fft.ifftshift(x, axes=(0,1)), axes=(0,1)), axes=(0,1))\n",
        "remote_path = \"https://raw.githubusercontent.com/pulseq/MR-Physics-with-Pulseq/main/tutorials/04_hardware_and_imprefections/data/\"\n",
        "\n",
        "filename_BC = '2024-02-06-160115.dat' # phantom data\n",
        "# filename_BC = '2024-02-06-164120.dat' # In Vivo data\n",
        "\n",
        "filename_LC = '2024-02-06-160052.dat' # phantom data\n",
        "# filename_LC = '2024-02-06-164128.dat' # In vivo data\n",
        "\n",
        "!wget {remote_path+filename_BC}\n",
        "!wget {remote_path+filename_LC}\n",
        "\n",
        "# Body coil used to transmit\n",
        "\n",
        "Nc=2\n",
        "twix_obj = mapvbvd.mapVBVD(filename_BC)\n",
        "twix_obj.image.removeOS = False\n",
        "twix_obj.image.disableReflect = True\n",
        "rawdat = np.transpose(twix_obj.image.unsorted(), (0, 2, 1))\n",
        "rawdata_BC = np.reshape(rawdat, (Nx, Ny, Nc))\n",
        "\n",
        "imageBC = np.sqrt(np.sum(np.abs(fft_2d(rawdata_BC)), axis=-1))\n",
        "\n",
        "plt.figure()\n",
        "plt.imshow(np.transpose(np.abs(imageBC[::-1,::-1])))\n",
        "\n",
        "\n",
        "\n",
        "twix_obj = mapvbvd.mapVBVD(filename_LC)\n",
        "twix_obj.image.removeOS = False\n",
        "twix_obj.image.disableReflect = True\n",
        "kdataLC = np.transpose(np.squeeze(twix_obj.image.unsorted()),(0,2,1))\n",
        "\n",
        "imageLC = fft_2d(kdataLC)\n",
        "\n",
        "plt.figure()\n",
        "plt.imshow(np.transpose(np.abs(imageLC[::-1,::-1,1])))\n"
      ],
      "metadata": {
        "id": "4VT6Hw30fxqW"
      },
      "execution_count": null,
      "outputs": []
    },
    {
      "cell_type": "markdown",
      "source": [
        "Now divide Local coil image by Body coil image to receive a sensitivity profile\n",
        "Using sensitivity profiles for reconstructions requires further post-processing (denoising, extrapolation, etc.). One possible tool is Miki Lustigs Espirit toolbox https://github.com/mikgroup/auto-espirit\n"
      ],
      "metadata": {
        "id": "bGvafzYaOVx7"
      }
    },
    {
      "cell_type": "code",
      "source": [
        "cc=1\n",
        "image_b1 = imageLC[:,:,cc]/imageBC\n",
        "plt.figure()\n",
        "plt.imshow(np.transpose(np.abs(image_b1[::-1,::-1])))#,vmin=0,vmax=0.7)"
      ],
      "metadata": {
        "id": "TlxL8eqlJaID"
      },
      "execution_count": null,
      "outputs": []
    }
  ]
}