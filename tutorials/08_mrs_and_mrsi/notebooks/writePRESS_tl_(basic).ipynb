{
  "cells": [
    {
      "cell_type": "markdown",
      "metadata": {
        "id": "view-in-github",
        "colab_type": "text"
      },
      "source": [
        "<a href=\"https://colab.research.google.com/github/pulseq/MR-Physics-with-Pulseq/blob/main/tutorials/08_mrs_and_mrsi/notebooks/writePRESS_tl_(basic).ipynb\" target=\"_parent\"><img src=\"https://colab.research.google.com/assets/colab-badge.svg\" alt=\"Open In Colab\"/></a>"
      ]
    },
    {
      "cell_type": "markdown",
      "source": [
        "# Example SVS PRESS sequence\n",
        "\n",
        "The code implements SVS PRESS sequence with quite optimized gradient shapes but neither water suppression nor other bells-and-wistles\n",
        "\n",
        "**Exercises** can be found at the end of this notebook"
      ],
      "metadata": {
        "id": "mJe7X9UGeWF1"
      }
    },
    {
      "cell_type": "markdown",
      "source": [
        "# Initial package set-up\n",
        "This is a necessary step for the Colab environment, and it is only slow on the first run"
      ],
      "metadata": {
        "id": "y-JTbHumqEST"
      }
    },
    {
      "cell_type": "code",
      "source": [
        "try:\n",
        "  import pypulseq as mr\n",
        "  print(\"pypulseq package is readily available\\n\")\n",
        "\n",
        "except ImportError or ModuleNotFoundError:\n",
        "  !pip install git+https://github.com/imr-framework/pypulseq.git\n",
        "  #!pip install git+https://github.com/FrankZijlstra/pypulseq.git@bugfixes"
      ],
      "metadata": {
        "id": "1MmzSDftfM0Z"
      },
      "execution_count": null,
      "outputs": []
    },
    {
      "cell_type": "markdown",
      "source": [
        "# Python imports"
      ],
      "metadata": {
        "id": "LTyeejePqQVh"
      }
    },
    {
      "cell_type": "code",
      "source": [
        "import math\n",
        "import warnings\n",
        "import numpy as np\n",
        "from matplotlib import pyplot as plt\n",
        "\n",
        "import pypulseq as mr"
      ],
      "metadata": {
        "id": "HmPW2QurfZcW"
      },
      "execution_count": null,
      "outputs": []
    },
    {
      "cell_type": "markdown",
      "source": [
        "# Set high-level sequence parameters\n",
        "Use the code block below to set high-level parameters such as FOV, spatial resolution, etc..."
      ],
      "metadata": {
        "id": "yXWZqRmzdLfh"
      }
    },
    {
      "cell_type": "code",
      "source": [
        "# Define the voxel size and other parameters\n",
        "\n",
        "voxel_mm=[20,30,40] # voxel size in mm\n",
        "Nx=4096\n",
        "Nrep=16\n",
        "adcDur=2048e-3\n",
        "rfDurEx=2600e-6\n",
        "rfDurRef=5200e-6\n",
        "TR=3000e-3\n",
        "TE=142e-3\n",
        "spA=0.6e3 # spoiler area in 1/m (=Hz/m*s)\n",
        "spB=2.0e3 # spoiler area in 1/m (=Hz/m*s)\n",
        "\n",
        "# Set system limits\n",
        "# in spectroscopy sequences we typically set very conservative limits, much lower\n",
        "# than the actual system cpapabilities to avoid eddy currents and gradien heating\n",
        "\n",
        "system = mr.Opts(\n",
        "    max_grad=15,\n",
        "    grad_unit=\"mT/m\",\n",
        "    max_slew=100,\n",
        "    slew_unit=\"T/m/s\",\n",
        "    rf_ringdown_time=20e-6,\n",
        "    rf_dead_time=100e-6,\n",
        "    adc_dead_time=20e-6,\n",
        ")\n",
        "\n",
        "# More advansed options and switches\n",
        "plot: bool = True\n",
        "write_seq: bool = True\n",
        "seq_filename: str = \"press_pypulseq.seq\"\n",
        "voxel = np.array(voxel_mm)*1e-3;"
      ],
      "metadata": {
        "id": "IEtZ-QF4f-X8"
      },
      "execution_count": null,
      "outputs": []
    },
    {
      "cell_type": "markdown",
      "source": [
        "# Create Pulseq objects\n",
        "Create all kinds of objects that we will need in the sequence, such as the slice selective RF pulse, slice selection and refocusing gradients, etc..."
      ],
      "metadata": {
        "id": "2sD8uLXn1iSH"
      }
    },
    {
      "cell_type": "code",
      "source": [
        "# Create slice-selective excitation and refocusing pulses\n",
        "rf_ex, g_ex, g_exReph = mr.make_sinc_pulse(flip_angle=np.pi/2,duration=rfDurEx,\n",
        "    slice_thickness=voxel[0],apodization=0.5,time_bw_product=8,system=system,return_gz=True)\n",
        "rf_ref1, g_ref1, _ = mr.make_sinc_pulse(flip_angle=np.pi,duration=rfDurEx,phase_offset=np.pi/2,\n",
        "    slice_thickness=voxel[1],apodization=0.6,time_bw_product=8,system=system,use='refocusing',return_gz=True)\n",
        "rf_ref2, g_ref2, _ = mr.make_sinc_pulse(flip_angle=np.pi,duration=rfDurEx,phase_offset=np.pi/2,\n",
        "    slice_thickness=voxel[2],apodization=0.6,time_bw_product=8,system=system,use='refocusing',return_gz=True)\n",
        "# fix channels for the gradients\n",
        "g_ex.channel='x';\n",
        "g_ref1.channel='y';"
      ],
      "metadata": {
        "id": "S0txuBhvhFkz"
      },
      "execution_count": null,
      "outputs": []
    },
    {
      "cell_type": "code",
      "source": [
        "# join spoilers with the slice selection pulses of the refocusing gradients\n",
        "# step 1: create pre-gradient to merge into the plato\n",
        "g_ref1_pre,_,_ =mr.make_extended_trapezoid_area(channel=g_ref1.channel,grad_start=0,grad_end=g_ref1.amplitude,area=spA,system=system)\n",
        "# step 2: create post-gradient to start at the plato\n",
        "g_ref1_post,_,_=mr.make_extended_trapezoid_area(channel=g_ref1.channel,grad_start=g_ref1.amplitude,grad_end=0,area=spA,system=system)\n",
        "# step 3: create a composite gradient\n",
        "g_refC1=mr.make_extended_trapezoid(channel=g_ref1_pre.channel,\n",
        "    times=     np.append(g_ref1_pre.tt,       g_ref1_post.tt+g_ref1_pre.shape_dur+g_ref1.flat_time),\n",
        "    amplitudes=np.append(g_ref1_pre.waveform, g_ref1_post.waveform),\n",
        "    system=system)\n",
        "# see what we've got\n",
        "plt.figure(figsize=(10, 5))\n",
        "plt.plot(g_refC1.tt*1e3,g_refC1.waveform/system.gamma*1e3,'b-')\n",
        "ax = plt.gca()\n",
        "plt.title('combined gradient for the first refocunsing pulse')\n",
        "plt.xlabel('ms')\n",
        "plt.ylabel('mT/m')\n",
        "plt.draw()\n",
        "# same procedure for the second refocusing pulse slice selection\n",
        "g_ref2_pre,_,_ =mr.make_extended_trapezoid_area(channel=g_ref2.channel,grad_start=0,grad_end=g_ref2.amplitude,area=spB,system=system);\n",
        "g_ref2_post,_,_=mr.make_extended_trapezoid_area(channel=g_ref2.channel,grad_start=g_ref2.amplitude,grad_end=0,area=spB,system=system);\n",
        "g_refC2=mr.make_extended_trapezoid(channel=g_ref2_pre.channel,\n",
        "    times=     np.append(g_ref2_pre.tt,       g_ref2_post.tt+g_ref2_pre.shape_dur+g_ref2.flat_time),\n",
        "    amplitudes=np.append(g_ref2_pre.waveform, g_ref2_post.waveform),\n",
        "    system=system)\n",
        "# update RF pulses' delays to center them on the central flat parts of the combined gradients\n",
        "rf_ref1.delay=g_ref1_pre.shape_dur;\n",
        "rf_ref2.delay=g_ref2_pre.shape_dur;\n",
        "# see what we've got\n",
        "plt.figure(figsize=(10, 5))\n",
        "plt.plot(g_refC2.tt*1e3,g_refC2.waveform/system.gamma*1e3,'b-')\n",
        "ax = plt.gca()\n",
        "plt.title('combined gradient for the second refocunsing pulse')\n",
        "plt.xlabel('ms')\n",
        "plt.ylabel('mT/m')\n",
        "plt.draw()\n"
      ],
      "metadata": {
        "id": "-Tb7lC8Hrjte"
      },
      "execution_count": null,
      "outputs": []
    },
    {
      "cell_type": "code",
      "source": [
        "# now calculate other spoiler gradients\n",
        "g_spAz1=mr.make_trapezoid(channel='z',area=spA,system=system)\n",
        "g_spAz2=mr.make_trapezoid(channel='z',area=spA,system=system,delay=mr.calc_duration(g_spAz1)+g_ref1.flat_time)\n",
        "g_spAx1=mr.make_trapezoid(channel='x',area=spA+g_exReph.area,system=system) # notice we reduce the area to account for slice refocusing\n",
        "g_spAx2=mr.make_trapezoid(channel='x',area=spA,system=system,delay=mr.calc_duration(g_spAz1)+g_ref1.flat_time)\n",
        "g_spBy1=mr.make_trapezoid(channel='y',area=spB,system=system)\n",
        "g_spBy2=mr.make_trapezoid(channel='y',area=spB,system=system,delay=mr.calc_duration(g_spBy1)+g_ref2.flat_time)\n",
        "g_spBx1=mr.make_trapezoid(channel='x',area=spB,system=system)\n",
        "g_spBx2=mr.make_trapezoid(channel='x',area=spB,system=system,delay=mr.calc_duration(g_spBy1)+g_ref2.flat_time)\n",
        "# combine spoilers to composite gradients\n",
        "g_spAz=mr.add_gradients(grads=(g_spAz1,g_spAz2),system= system)\n",
        "g_spAx=mr.add_gradients(grads=(g_spAx1,g_spAx2),system= system)\n",
        "g_spBy=mr.add_gradients(grads=(g_spBy1,g_spBy2),system= system)\n",
        "g_spBx=mr.add_gradients(grads=(g_spBx1,g_spBx2),system= system)\n",
        "# update delays in g_refC1, g_refC2, rf_ref1 and rf_ref2 in case g_spAz1 is longer than g_ref1_pre\n",
        "g_refC1.delay=g_refC1.delay-mr.calc_duration(g_ref1_pre)+mr.calc_duration(g_spAz1)\n",
        "g_refC2.delay=g_refC2.delay-mr.calc_duration(g_ref2_pre)+mr.calc_duration(g_spBy1)\n",
        "rf_ref1.delay=rf_ref1.delay-mr.calc_duration(g_ref1_pre)+mr.calc_duration(g_spAz1)\n",
        "rf_ref2.delay=rf_ref2.delay-mr.calc_duration(g_ref2_pre)+mr.calc_duration(g_spBy1)\n",
        "# end spoiler\n",
        "end_sp_axes=['x','y','z']\n",
        "g_spEnd=[None]*3\n",
        "for i in range(3):\n",
        "  g_spEnd[i] = mr.make_trapezoid(\n",
        "    channel=end_sp_axes[i], system=system, area=1/1e-4 # spoiling area in inverse meters\n",
        "  )"
      ],
      "metadata": {
        "id": "rdwNgWf3BoNw"
      },
      "execution_count": null,
      "outputs": []
    },
    {
      "cell_type": "code",
      "source": [
        "# Define delays and ADC events\n",
        "delayTE1=1e-3 # this delay allows to shift the spin echo within the ADC window\n",
        "# we define TE as 2* delay between the centers of the refocusing pulses\n",
        "# delayTE2=TE/2-(mr.calcDuration(rf_ref1)-mr.calcRfCenter(rf_ref1)-rf_ref1.delay)-g_ref1_post.shape_dur-rf_ref2.delay-mr.calcRfCenter(rf_ref2)\n",
        "delayTE2=TE/2 - rf_ref1.shape_dur/2 - g_ref1_post.shape_dur - rf_ref2.delay - rf_ref2.shape_dur/2\n",
        "assert(delayTE2>=0)\n",
        "# we start the ADC object right away after the spoiler\n",
        "adc = mr.make_adc(num_samples=Nx,duration=adcDur,system=system)\n",
        "\n",
        "#\n",
        "delayTR=TR-max(mr.calc_duration(g_ex), mr.calc_duration(rf_ex))-mr.calc_duration(g_refC1)-delayTE1-delayTE2-mr.calc_duration(g_refC2)-mr.calc_duration(adc)-mr.calc_duration(g_spEnd[0]);\n",
        "assert(delayTR>=0);"
      ],
      "metadata": {
        "id": "zurxIWY7Dndr"
      },
      "execution_count": null,
      "outputs": []
    },
    {
      "cell_type": "markdown",
      "source": [
        "# Construct the sequence\n",
        "Contruct the sequence object and fill it up block-by-block"
      ],
      "metadata": {
        "id": "9Tm2D8tI7zxr"
      }
    },
    {
      "cell_type": "code",
      "source": [
        "seq = mr.Sequence(system)  # Create a new sequence object\n",
        "\n",
        "# populate the sequence object with event blocks\n",
        "# Loop over repetitions and define sequence blocks\n",
        "for i in range(Nrep):\n",
        "  seq.add_block(rf_ex,g_ex)\n",
        "  seq.add_block(mr.make_delay(delayTE1))\n",
        "  seq.add_block(rf_ref1,g_refC1,g_spAz,g_spAx)\n",
        "  seq.add_block(mr.make_delay(delayTE2))\n",
        "  seq.add_block(rf_ref2,g_refC2,g_spBy,g_spBx)\n",
        "  seq.add_block(adc)"
      ],
      "metadata": {
        "id": "WXL0VQm0IazV"
      },
      "execution_count": null,
      "outputs": []
    },
    {
      "cell_type": "markdown",
      "source": [
        "# Timing check\n",
        "Check whether the sequence timing is OK and the objects are consistent and compatible with each other and the target scanner"
      ],
      "metadata": {
        "id": "LBhtotHdqYMh"
      }
    },
    {
      "cell_type": "code",
      "source": [
        "(\n",
        "    ok,\n",
        "    error_report,\n",
        ") = seq.check_timing()  # Check whether the timing of the sequence is correct\n",
        "if ok:\n",
        "    print(\"Timing check passed successfully\")\n",
        "else:\n",
        "    print(\"Timing check failed. Error listing follows:\")\n",
        "    [print(e) for e in error_report]"
      ],
      "metadata": {
        "id": "pTKscy94kAJM"
      },
      "execution_count": null,
      "outputs": []
    },
    {
      "cell_type": "markdown",
      "source": [
        "# Visualize the sequence\n",
        "Here we just plot the sequence timing. Due to the limitations of the Colab environment the plots are not live, no interactive zoom-in / zoom-out is possible, therefore it is necessary to use the time_range option"
      ],
      "metadata": {
        "id": "kmNXMnPjq6qn"
      }
    },
    {
      "cell_type": "code",
      "source": [
        "if plot:\n",
        "  print(\"Plot the beginning of the sequence\")\n",
        "  seq.plot(time_range=[180000e-6, 262830e-6], time_disp=\"us\", show_blocks=True) # just a small initial part\n",
        "\n",
        "  #\n",
        "  print(\"Plot of the entire sequence\")\n",
        "  seq.plot() # plot the entire sequence"
      ],
      "metadata": {
        "id": "dQWyYL5LkeGq"
      },
      "execution_count": null,
      "outputs": []
    },
    {
      "cell_type": "code",
      "source": [
        "# no reason to calculate k-space, but we use the gradient_offset option to check the echo time ()\n",
        "k_traj_adc, k_traj, t_excitation, t_refocusing, t_adc = seq.calculate_kspace(gradient_offset=[1000,-2000,3000])\n",
        "plt.figure(figsize=(15, 10))\n",
        "plt.plot(k_traj[0,],'b-')\n",
        "plt.plot(k_traj[1,],'r-')\n",
        "plt.plot(k_traj[2,],'k-')\n",
        "plt.xlim(0, 500) # you may need to change the upper limit but 500 gives a nice view for the default pulse sequence settings\n",
        "ax = plt.gca()\n",
        "plt.title('k-space trajectory as a function of time')\n",
        "plt.xlabel('time steps, currently not easy to interpret')\n",
        "plt.ylabel('$k_y$, $k_y$, $k_z$')\n",
        "plt.draw()"
      ],
      "metadata": {
        "id": "WLTTZCHy5nIg"
      },
      "execution_count": null,
      "outputs": []
    },
    {
      "cell_type": "markdown",
      "source": [
        "# (Optionally) Analyze the sequence\n",
        "Very optional slow step, but useful for testing during development\n",
        "e.g. for the real TE, TR or for staying within slew-rate limits, etc."
      ],
      "metadata": {
        "id": "Vk4JivIbnz_1"
      }
    },
    {
      "cell_type": "code",
      "source": [
        "rep = seq.test_report()\n",
        "print(rep)"
      ],
      "metadata": {
        "id": "J0JeFpP773gS"
      },
      "execution_count": null,
      "outputs": []
    },
    {
      "cell_type": "markdown",
      "source": [
        "#Write the .seq file"
      ],
      "metadata": {
        "id": "iARu27z-nn6B"
      }
    },
    {
      "cell_type": "code",
      "source": [
        "if write_seq:\n",
        "  # Prepare the sequence output for the scanner\n",
        "  seq.set_definition(key=\"FOV\", value=voxel) # SVS spectroscopy should export the voxel via the FOV definition\n",
        "  seq.set_definition(key=\"Name\", value=\"press\")\n",
        "  # Write the sequence file\n",
        "  seq.write(seq_filename)\n",
        "  from google.colab import files\n",
        "  files.download(seq_filename)  # Download locally"
      ],
      "metadata": {
        "id": "qnfYzw-Pzx2H"
      },
      "execution_count": null,
      "outputs": []
    },
    {
      "cell_type": "markdown",
      "source": [
        "# Exercises:\n",
        "* add dummy scans to sequence loop\n",
        "  - One plausible strategy is to start the loop counter from a negative value and avoid adding ADC to the corresponding sequence block\n",
        "  - Remember however to add a dummy delay to this block to make sure that the duration of the block for the dummy cycles remains the same as for the acquisition scycles.\n",
        "* add WET water suppression (with 3 Gaussian RF pulses and 3 crusher gradients)   \n",
        "  - See  J Magn Reson B. 1994 May;104(1):1-10 (https://doi.org/10.1006/jmrb.1994.1048) for details.\n",
        "  - Define parameters of WET sequence block (flip angles, RF dur/bandwidth, delays, gradient axes and areas)\n",
        "  - Create pulses and crusher gradients\n",
        "  - Include WET sequence block in the sequence loop\n",
        "\n",
        "Optional exercises (no solution provided):\n",
        "* replace RF pulses with SLR pulses\n",
        "* add two phase encoding gradients to convert it to a CSI sequence"
      ],
      "metadata": {
        "id": "f1q5xIpisA89"
      }
    }
  ],
  "metadata": {
    "colab": {
      "provenance": [],
      "collapsed_sections": [
        "LTyeejePqQVh"
      ],
      "include_colab_link": true
    },
    "kernelspec": {
      "display_name": "Python 3",
      "name": "python3"
    }
  },
  "nbformat": 4,
  "nbformat_minor": 0
}