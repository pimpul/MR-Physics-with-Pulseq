{
  "nbformat": 4,
  "nbformat_minor": 0,
  "metadata": {
    "colab": {
      "provenance": [],
      "include_colab_link": true
    },
    "kernelspec": {
      "name": "python3",
      "display_name": "Python 3"
    },
    "language_info": {
      "name": "python"
    }
  },
  "cells": [
    {
      "cell_type": "markdown",
      "metadata": {
        "id": "view-in-github",
        "colab_type": "text"
      },
      "source": [
        "<a href=\"https://colab.research.google.com/github/pulseq/MR-Physics-with-Pulseq/blob/main/tutorials/05_gradient_echos/notebooks/exercise_2_DESS_solution.ipynb\" target=\"_parent\"><img src=\"https://colab.research.google.com/assets/colab-badge.svg\" alt=\"Open In Colab\"/></a>"
      ]
    },
    {
      "cell_type": "markdown",
      "source": [
        "# **Gradient echoes and SSFP exercises 2: DESS - solution**\n",
        "\n",
        "In this exercise, you will change a standard 3D gradient echo scan (FISP) into a DESS sequence.\n",
        "\n",
        "Optionally, go also for the TESS sequence (triple echo steady state, see\n",
        "Sobol and Gauntt,JMRI 6:384-398(1996),Fig.11)\n",
        "\n",
        "# Exercises\n",
        "\n",
        "Starting point is the unbalanced gradient echo sequence (FISP).\n",
        "\n",
        "## 2.1 DESS\n",
        "Modify FISP to obtain a DESS sequence. Introduce a second ADC (with echo (ECO) labeling) and modify the readout gradient accordingly. To see different contrast for the two echoes, you might use a lower flip angle.\n",
        "\n",
        "## 2.2 TESS (optional)\n",
        "Modify DESS to obtain a TESS sequence. Introduce a third ADC (with echo (ECO) labeling) and modify the readout gradient further. Hint: you must also modify the gradient area A of gx_pre."
      ],
      "metadata": {
        "id": "fma_0k0UkjRd"
      }
    },
    {
      "cell_type": "markdown",
      "source": [
        "# Initialization"
      ],
      "metadata": {
        "id": "HLOjglKX0vwT"
      }
    },
    {
      "cell_type": "code",
      "execution_count": null,
      "metadata": {
        "id": "_vFt2DGan-e9"
      },
      "outputs": [],
      "source": [
        "import importlib\n",
        "if importlib.util.find_spec('pypulseq') is None:\n",
        "    !pip install -q mrzerocore git+https://github.com/imr-framework/pypulseq.git\n",
        "\n",
        "import math\n",
        "import numpy as np\n",
        "import matplotlib.pyplot as plt\n",
        "from IPython.display import HTML\n",
        "\n",
        "import pypulseq as pp\n",
        "\n",
        "!wget -nc https://raw.githubusercontent.com/pulseq/MR-Physics-with-Pulseq/main/utils/utils.py\n",
        "from utils import animate, simulate_2d, recon_cartesian_3d, plot_nd"
      ]
    },
    {
      "cell_type": "markdown",
      "source": [
        "# **Create, simulate, and reconstruct sequence**"
      ],
      "metadata": {
        "id": "VwjZAyhry9Jy"
      }
    },
    {
      "cell_type": "markdown",
      "source": [
        "**GRE Sequence definition**"
      ],
      "metadata": {
        "id": "7vqSi82fwTFC"
      }
    },
    {
      "cell_type": "code",
      "source": [
        "plot = True\n",
        "write_seq = True\n",
        "seq_filename = \"gre_3d.seq\"\n",
        "\n",
        "# ======\n",
        "# SETUP\n",
        "# ======\n",
        "\n",
        "# Define FOV and resolution\n",
        "fov = [256e-3, 256e-3, 5e-3]\n",
        "Nx = 64\n",
        "Ny = 64\n",
        "Nz = 1\n",
        "alpha = 10  # flip angle - for DESS and TESS, cahnge it to, e.g., 10 deg.\n",
        "TR = 20e-3  # Repetition time\n",
        "TE = 10e-3  # Echo time\n",
        "dummy_scans = 100 # Number of dummy repetitions\n",
        "\n",
        "ro_os = 1 # Readout oversampling\n",
        "\n",
        "# Here are the modfications in the gradient schemes needed tu fulfil the exercises. For further changes that are needed, see the comments in the sequence block.\n",
        "# FISP\n",
        "#A = -0.5\n",
        "#C = 0.5\n",
        "#rf_inc = 0\n",
        "\n",
        "# DESS\n",
        "#A = -0.5\n",
        "#C = -0.5\n",
        "#rf_inc = 0\n",
        "\n",
        "# TESS\n",
        "A = -1.5\n",
        "C = -0.5\n",
        "rf_inc = 0\n",
        "\n",
        "\n",
        "readout_duration = 3.2e-3 # Readout duration (sec)\n",
        "pe_duration = 1e-3 # Duration of phase encoding gradients (sec)\n",
        "\n",
        "# Create system object\n",
        "system = pp.Opts(\n",
        "    max_grad=28,\n",
        "    grad_unit=\"mT/m\",\n",
        "    max_slew=150,\n",
        "    slew_unit=\"T/m/s\",\n",
        "    rf_ringdown_time=20e-6,\n",
        "    rf_dead_time=100e-6,\n",
        "    adc_dead_time=10e-6,\n",
        ")\n",
        "\n",
        "# Create a new sequence object\n",
        "seq = pp.Sequence(system=system)\n",
        "\n",
        "# ======\n",
        "# CREATE EVENTS\n",
        "# ======\n",
        "rf, gz, _ = pp.make_sinc_pulse(\n",
        "    flip_angle=alpha * math.pi / 180,\n",
        "    duration=3e-3,\n",
        "    slice_thickness=fov[2],\n",
        "    apodization=0.42,\n",
        "    time_bw_product=4,\n",
        "    system=system,\n",
        "    return_gz=True\n",
        ")\n",
        "\n",
        "# Define other gradients and ADC events\n",
        "delta_kx = 1 / fov[0]\n",
        "delta_ky = 1 / fov[1]\n",
        "delta_kz = 1 / fov[2]\n",
        "\n",
        "gx = pp.make_trapezoid(channel=\"x\", flat_area=Nx * delta_kx, flat_time=readout_duration, system=system)\n",
        "adc = pp.make_adc(num_samples=Nx * ro_os, duration=gx.flat_time, delay=gx.rise_time, system=system)\n",
        "gx_pre = pp.make_trapezoid(channel=\"x\", area=-gx.area / 2, duration=pe_duration, system=system)\n",
        "\n",
        "gx_spoil = pp.make_trapezoid(channel=\"x\", area=2 * Nx * delta_kx, system=system)\n",
        "gz_spoil = pp.make_trapezoid(channel=\"z\", area=4 / fov[2], system=system)\n",
        "\n",
        "# Phase encoding\n",
        "phase_areas_y = (np.arange(Ny) - Ny // 2) * delta_ky\n",
        "phase_areas_z = (np.arange(Nz) - Nz // 2) * delta_kz\n",
        "\n",
        "# Phase encoding table with YZ order (outer loop = Z, inner loop = Y)\n",
        "phase_encode_table = [(y,z) for z in range(len(phase_areas_z)) for y in range(len(phase_areas_y))]\n",
        "\n",
        "# Calculate timing\n",
        "delay_TE = (\n",
        "    np.ceil(\n",
        "        (\n",
        "            TE\n",
        "            - (pp.calc_duration(gz, rf) - pp.calc_rf_center(rf)[0] - rf.delay)\n",
        "            - pp.calc_duration(gx_pre)\n",
        "            - pp.calc_duration(gx) / 2\n",
        "            - pp.eps\n",
        "        )\n",
        "        / seq.grad_raster_time\n",
        "    )\n",
        "    * seq.grad_raster_time\n",
        ")\n",
        "delay_TR = (\n",
        "    np.ceil(\n",
        "        (\n",
        "            TR\n",
        "            - pp.calc_duration(rf, gz)\n",
        "            - pp.calc_duration(gx_pre)\n",
        "            - pp.calc_duration(gx)\n",
        "            - delay_TE\n",
        "        )\n",
        "        / seq.grad_raster_time\n",
        "    )\n",
        "    * seq.grad_raster_time\n",
        ")\n",
        "\n",
        "# Exercises: Possible that you need to comment out these\n",
        "assert delay_TE >= 0\n",
        "assert delay_TR >= pp.calc_duration(gx_spoil, gz_spoil)\n",
        "\n",
        "N_pe = len(phase_encode_table)\n",
        "\n",
        "# ======\n",
        "# CONSTRUCT SEQUENCE\n",
        "# ======\n",
        "\n",
        "# Initialize label values\n",
        "last_lin = 0\n",
        "last_slc = 0\n",
        "\n",
        "# Initialize RF phase cycling\n",
        "rf_phase = 0\n",
        "\n",
        "\n",
        "# Loop over phase encodes and define sequence blocks\n",
        "for i in range(-dummy_scans, N_pe):\n",
        "\n",
        "    rf_phase = (rf_phase + rf_inc) % 360.0\n",
        "    rf.phase_offset = rf_phase / 180 * np.pi\n",
        "    adc.phase_offset = rf_phase / 180 * np.pi\n",
        "\n",
        "    # RF excitation and slice/slab selection gradient\n",
        "    seq.add_block(rf, gz)\n",
        "\n",
        "    # Wait for TE\n",
        "    seq.add_block(pp.make_delay(delay_TE))\n",
        "\n",
        "    # Phase encoding gradients, combined with slice selection rephaser\n",
        "    pe_index_y, pe_index_z = phase_encode_table[max(i, 0)]\n",
        "    gx_pre = pp.make_trapezoid(channel=\"x\", area=A * gx.area, duration=pe_duration, system=system)\n",
        "    gy_pre = pp.make_trapezoid(channel=\"y\", area=phase_areas_y[pe_index_y], duration=pe_duration, system=system)\n",
        "    gz_pre = pp.make_trapezoid(channel=\"z\", area=phase_areas_z[pe_index_z] - gz.area / 2, duration=pe_duration, system=system)\n",
        "    seq.add_block(gx_pre, gy_pre, gz_pre)\n",
        "\n",
        "    # Readout, do not enable ADC/labels for dummy acquisitions\n",
        "    if i < 0:\n",
        "        seq.add_block(gx)\n",
        "        #seq.add_block(gx_comp)  #DESS and TESS\n",
        "        seq.add_block(gx)        #DESS and TESS\n",
        "        #seq.add_block(gx_comp)  #TESS\n",
        "        seq.add_block(gx)        #TESS\n",
        "    else:\n",
        "        # Readout with LIN (Y) and SLC (Z) labels (increment relative to previous label value)\n",
        "        seq.add_block(gx, adc, pp.make_label('ECO', 'SET', 0), pp.make_label('LIN', 'INC', pe_index_y - last_lin), pp.make_label('SLC', 'INC', pe_index_z - last_slc))\n",
        "\n",
        "        #seq.add_block(gx_comp)                                  #TESS\n",
        "        #Note: All the observed echoes should be centered within the ADC time. The following second echo (F0 state, corresponds to the echo recorded with FISP),\n",
        "        #experiences a small shift when the rampdown/ramp up of the two adjacent gx-blocks are not compensated, therefore a small compensation gradient gx_comp, prepared as\n",
        "        #gx_comp = pp.make_trapezoid('x', area=-gx.amplitude*gx.rise_time)\n",
        "        #can be introduced with the above line seq.add_block(gx_comp). However, the shift is small and no change of the echo magnitude image is visible. So for our training purposes,\n",
        "        #this small compensating gradient is just negligible.\n",
        "\n",
        "        #Note also, this is required neither for the two DESS echoes nor for the other two echoes in TESS, any of those other echoes is cnetered in the ADC time anyway.\n",
        "\n",
        "        seq.add_block(gx, adc, pp.make_label('ECO', 'SET', 1))   #DESS and TESS\n",
        "        #seq.add_block(gx_comp)                                  #DESS and TESS\n",
        "        seq.add_block(gx, adc, pp.make_label('ECO', 'SET', 2))   #DESS and TESS\n",
        "\n",
        "\n",
        "    # Balance phase encoding and slice selection gradients\n",
        "    gy_post = pp.make_trapezoid(channel=\"y\", area=-phase_areas_y[pe_index_y], duration=pe_duration, system=system) #jl\n",
        "    gz_post = pp.make_trapezoid(channel=\"z\", area=-phase_areas_z[pe_index_z] - gz.area / 2, duration=pe_duration, system=system) #jl\n",
        "    gx_post = pp.make_trapezoid(channel=\"x\", area=C * gx.area, duration=pe_duration, system=system)\n",
        "    seq.add_block(gx_post, gy_post, gz_post)\n",
        "\n",
        "    # wait for TR\n",
        "    #seq.add_block(pp.make_delay(delay_TR))\n",
        "\n",
        "    # Update previous labels\n",
        "    last_lin = pe_index_y\n",
        "    last_slc = pe_index_z\n",
        "\n",
        "\n",
        "# Check whether the timing of the sequence is correct\n",
        "ok, error_report = seq.check_timing()\n",
        "if ok:\n",
        "    print(\"Timing check passed successfully\")\n",
        "else:\n",
        "    print(\"Timing check failed. Error listing follows:\")\n",
        "    [print(e) for e in error_report]\n",
        "\n",
        "# ======\n",
        "# VISUALIZATION\n",
        "# ======\n",
        "if plot:\n",
        "    seq.plot()\n",
        "\n",
        "# Very optional slow step, but useful for testing during development e.g. for the real TE, TR or for staying within\n",
        "# slew-rate limits\n",
        "print(seq.test_report())\n",
        "\n",
        "# =========\n",
        "# WRITE .SEQ\n",
        "# =========\n",
        "seq.set_definition(key=\"FOV\", value=fov)\n",
        "\n",
        "if write_seq:\n",
        "    # Prepare the sequence output for the scanner\n",
        "    seq.set_definition(key=\"Name\", value=\"gre_3d\")\n",
        "    seq.write(seq_filename)"
      ],
      "metadata": {
        "id": "4BGmrGSPsdn7"
      },
      "execution_count": null,
      "outputs": []
    },
    {
      "cell_type": "markdown",
      "source": [
        "**Plot k-space trajectory**"
      ],
      "metadata": {
        "id": "YifMOh6xsBb3"
      }
    },
    {
      "cell_type": "code",
      "source": [
        "k_traj_adc, k_traj, t_excitation, t_refocusing, t_adc = seq.calculate_kspace()\n",
        "\n",
        "plt.figure()\n",
        "plt.plot(k_traj[0],k_traj[1])\n",
        "plt.plot(k_traj_adc[0],k_traj_adc[1],'*');"
      ],
      "metadata": {
        "id": "GdaVmkX2r9yP"
      },
      "execution_count": null,
      "outputs": []
    },
    {
      "cell_type": "markdown",
      "source": [
        "**Check gradient 0th moments over one TR**"
      ],
      "metadata": {
        "id": "png_GiDgsDpg"
      }
    },
    {
      "cell_type": "code",
      "source": [
        "# Excitation events are filled with NaN in k_traj, find trajectory before second NaN\n",
        "# Note: Because this is one sample before the excitation, if a gradient is enabled, the moment calculation will be off by the area of one sample (amplitude * grad_raster_time)!\n",
        "end_of_tr_inds = np.flatnonzero(np.isnan(k_traj[0])) - 1\n",
        "k_traj_after_first_tr = k_traj[:, end_of_tr_inds[1]]\n",
        "\n",
        "print(f'X moment: {k_traj_after_first_tr[0]: 8.2f}/m   {k_traj_after_first_tr[0]/(Nx*delta_kx): 8.2f} cycles/voxel')\n",
        "print(f'Y moment: {k_traj_after_first_tr[1]: 8.2f}/m   {k_traj_after_first_tr[1]/(Ny*delta_ky): 8.2f} cycles/voxel')\n",
        "print(f'Z moment: {k_traj_after_first_tr[2]: 8.2f}/m   {k_traj_after_first_tr[2]/(Nz*delta_kz): 8.2f} cycles/voxel')"
      ],
      "metadata": {
        "id": "ivZuBigksA7A"
      },
      "execution_count": null,
      "outputs": []
    },
    {
      "cell_type": "markdown",
      "source": [
        "**Animate trajectory**"
      ],
      "metadata": {
        "id": "MgLJDhq5nyxR"
      }
    },
    {
      "cell_type": "code",
      "source": [
        "ani = animate(seq, show=False, dt=seq.duration()[0] / 10, plot_window=seq.duration()[0], fps=10, show_progress=True)\n",
        "from IPython.display import HTML\n",
        "HTML(ani.to_html5_video())"
      ],
      "metadata": {
        "id": "bjIbY_brmj4p"
      },
      "execution_count": null,
      "outputs": []
    },
    {
      "cell_type": "markdown",
      "source": [
        "**Run MR-zero simulation**\n",
        "\n",
        "The code below simulates the whole sequence, and shows the magnitude of the raw k-space profiles in acquisition order."
      ],
      "metadata": {
        "id": "Rxv3iFahCxnb"
      }
    },
    {
      "cell_type": "code",
      "source": [
        "# Simulate sequence\n",
        "kdata = simulate_2d(seq, sim_size=[128,128], noise_level=0.5, n_coils=1, B0_scale=1)\n",
        "\n",
        "# Display raw data profiles\n",
        "plt.figure()\n",
        "plt.imshow(abs(kdata[0]))\n",
        "plt.title('Magnitude of acquired raw data');"
      ],
      "metadata": {
        "id": "zYC6t2eOCt_L"
      },
      "execution_count": null,
      "outputs": []
    },
    {
      "cell_type": "markdown",
      "source": [
        "**Reconstruct simulated data**"
      ],
      "metadata": {
        "id": "HzSmiC7wzlsS"
      }
    },
    {
      "cell_type": "code",
      "source": [
        "rec = recon_cartesian_3d(kdata, seq)\n",
        "\n",
        "plot_nd(rec)\n",
        "plt.title('Reconstructed image');"
      ],
      "metadata": {
        "id": "aJbopgvdzkmy"
      },
      "execution_count": null,
      "outputs": []
    },
    {
      "cell_type": "markdown",
      "source": [
        "\n"
      ],
      "metadata": {
        "id": "XSLkiSHUqvcJ"
      }
    }
  ]
}