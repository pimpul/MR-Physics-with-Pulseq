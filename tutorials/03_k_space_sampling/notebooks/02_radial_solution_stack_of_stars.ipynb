{
  "nbformat": 4,
  "nbformat_minor": 0,
  "metadata": {
    "colab": {
      "provenance": [],
      "collapsed_sections": [
        "HLOjglKX0vwT"
      ],
      "include_colab_link": true
    },
    "kernelspec": {
      "name": "python3",
      "display_name": "Python 3"
    },
    "language_info": {
      "name": "python"
    }
  },
  "cells": [
    {
      "cell_type": "markdown",
      "metadata": {
        "id": "view-in-github",
        "colab_type": "text"
      },
      "source": [
        "<a href=\"https://colab.research.google.com/github/pulseq/MR-Physics-with-Pulseq/blob/main/tutorials/03_k_space_sampling/notebooks/02_radial_solution_stack_of_stars.ipynb\" target=\"_parent\"><img src=\"https://colab.research.google.com/assets/colab-badge.svg\" alt=\"Open In Colab\"/></a>"
      ]
    },
    {
      "cell_type": "markdown",
      "source": [
        "# Exercise 2: Radial sequences (solutions)\n",
        "\n",
        "---\n",
        "Solutions\n",
        "---\n",
        "---\n",
        "\n",
        "- **This is the solution for exercise 2 (radial stack-of-stars).**\n",
        "- Notes:\n",
        "  - Instead of the suggested increase of `slice_thickness`, we opted for the alternative of using `Nz*slice_thickness` as the FOV and slice selection thickness (typically you'd now call this \"slab-selective excitation\").\n",
        "  - Instead of the suggested double loop, we used a `phase_encode_table` (similar to exercise 1) to allow reordering of radial steps and Z-phase-encodes. This was necessary to deal with the dummy acquisitions at the start of scanning. You would not want to repeat the dummy acquisitions for every Z-encoding step.\n",
        "  - Similarly, instead of first planning `gz_pre` for the max phase encoding strength, we just recreate it in the sequence loop with the duration of `gx_pre`. This is fine as long as the duration of `gx_pre` is sufficiently long.\n",
        "\n",
        "---\n",
        "&nbsp;\n",
        "---\n",
        "\n",
        "In this exercise we will modify the standard gradient echo radial sequence that is provided by (py)Pulseq. You can find the exercises at the bottom of this notebook!"
      ],
      "metadata": {
        "id": "Zxz9soGyaqB9"
      }
    },
    {
      "cell_type": "markdown",
      "source": [
        "## Initialization"
      ],
      "metadata": {
        "id": "HLOjglKX0vwT"
      }
    },
    {
      "cell_type": "code",
      "execution_count": null,
      "metadata": {
        "id": "_vFt2DGan-e9"
      },
      "outputs": [],
      "source": [
        "import importlib\n",
        "if importlib.util.find_spec('pypulseq') is None:\n",
        "    !pip install -q mrzerocore git+https://github.com/imr-framework/pypulseq.git\n",
        "\n",
        "import math\n",
        "import numpy as np\n",
        "import matplotlib.pyplot as plt\n",
        "from IPython.display import HTML\n",
        "\n",
        "import pypulseq as pp\n",
        "\n",
        "!wget -nc https://raw.githubusercontent.com/pulseq/MR-Physics-with-Pulseq/main/utils/utils.py\n",
        "from utils import animate, simulate_2d, recon_nufft_2d, ifft_1d, plot_nd"
      ]
    },
    {
      "cell_type": "markdown",
      "source": [
        "# **Create, simulate, and reconstruct sequence**"
      ],
      "metadata": {
        "id": "VwjZAyhry9Jy"
      }
    },
    {
      "cell_type": "markdown",
      "source": [
        "**Radial GRE Sequence definition**"
      ],
      "metadata": {
        "id": "7vqSi82fwTFC"
      }
    },
    {
      "cell_type": "code",
      "source": [
        "plot = False\n",
        "write_seq = False\n",
        "animate_sequence = True\n",
        "\n",
        "seq_filename = \"gre_radial.seq\"\n",
        "\n",
        "# ======\n",
        "# SETUP\n",
        "# ======\n",
        "fov = 256e-3\n",
        "Nx = 64  # Define FOV and resolution\n",
        "# Ex 2. Added Nz\n",
        "Nz = 5 # Number of slices\n",
        "alpha = 30  # Flip angle\n",
        "slice_thickness = 5e-3  # Slice thickness\n",
        "TE = 3.5e-3  # Echo time\n",
        "TR = 7e-3  # Repetition time\n",
        "Nr = math.ceil(Nx/2 * np.pi)-1\n",
        "N_dummy = 50  # Number of dummy scans\n",
        "\n",
        "delta = np.pi / Nr  # Angular increment\n",
        "# delta = np.pi * (3 - np.sqrt(5))  # Golde angle increment\n",
        "\n",
        "ro_os = 2 # Readout oversampling\n",
        "rf_spoiling_inc = 117  # RF spoiling increment\n",
        "\n",
        "# Set system limits\n",
        "system = pp.Opts(\n",
        "    max_grad=28,\n",
        "    grad_unit=\"mT/m\",\n",
        "    max_slew=150,\n",
        "    slew_unit=\"T/m/s\",\n",
        "    rf_ringdown_time=20e-6,\n",
        "    rf_dead_time=100e-6,\n",
        "    adc_dead_time=10e-6,\n",
        ")\n",
        "\n",
        "seq = pp.Sequence(system)  # Create a new sequence object\n",
        "\n",
        "# ======\n",
        "# CREATE EVENTS\n",
        "# ======\n",
        "# Create alpha-degree slice selection pulse and gradient\n",
        "rf, gz, _ = pp.make_sinc_pulse(\n",
        "    apodization=0.5,\n",
        "    duration=1e-3,\n",
        "    flip_angle=alpha * np.pi / 180,\n",
        "    # Ex 2. Increased selection thickness to Z-FOV\n",
        "    slice_thickness=Nz*slice_thickness,\n",
        "    system=system,\n",
        "    time_bw_product=4,\n",
        "    return_gz=True,\n",
        ")\n",
        "gz_reph = pp.make_trapezoid(channel=\"z\", area=-gz.area / 2, duration=2e-3, system=system)\n",
        "\n",
        "# Define other gradients and ADC events\n",
        "deltak = 1 / fov\n",
        "gx = pp.make_trapezoid(channel=\"x\", flat_area=Nx * deltak, flat_time=6.4e-3 / 5, system=system)\n",
        "adc = pp.make_adc(num_samples=Nx*ro_os, duration=gx.flat_time, delay=gx.rise_time, system=system)\n",
        "gx_pre = pp.make_trapezoid(channel=\"x\", area=-gx.area / 2, duration=2e-3, system=system)\n",
        "\n",
        "# Ex 2. Added phase encoding areas for the Z-direction\n",
        "delta_kz = 1 / (Nz * slice_thickness)\n",
        "phase_areas_z = (np.arange(Nz) - Nz // 2) * delta_kz\n",
        "\n",
        "# Ex 2. Using a phase encode table to indicate radial and Z-phase encode indices (this allows for some pretty interesting reordering)\n",
        "# Note that because r is just multiplied by the angle below, it does not need to be\n",
        "#      an integer value, and could be used to select different angles in different Z-phase-encodes\n",
        "phase_encode_table = [(r, z) for z in range(Nz) for r in range(Nr)]\n",
        "# For example, add half an angle step for each odd Z-encode (this gives slightly better k-space coverage!)\n",
        "phase_encode_table = [(r + 0.5*(z%2), z) for z in range(Nz) for r in range(Nr)]\n",
        "\n",
        "# Gradient spoiling\n",
        "# Ex 2. Increased duration of gx_spoil, so it can be shared with the new gz_reph gradient in the sequence below (this means no changes to delay_TR are necessary)\n",
        "gx_spoil = pp.make_trapezoid(channel=\"x\", area=0.5 * Nx * deltak, duration=1e-3, system=system)\n",
        "# Ex 2. Replaced gz_spoil with definition of spoiler area\n",
        "gz_spoiler_area = 4 / (Nz * slice_thickness)\n",
        "\n",
        "# Calculate timing\n",
        "delay_TE = (\n",
        "    np.ceil(\n",
        "        (\n",
        "            TE\n",
        "            - (pp.calc_duration(gz, rf) - pp.calc_rf_center(rf)[0] - rf.delay)\n",
        "            - pp.calc_duration(gx_pre, gz_reph)\n",
        "            - pp.calc_duration(gx) / 2\n",
        "            - pp.eps\n",
        "        )\n",
        "        / seq.grad_raster_time\n",
        "    )\n",
        "    * seq.grad_raster_time\n",
        ")\n",
        "\n",
        "delay_TR = (\n",
        "    np.ceil(\n",
        "        (\n",
        "            TR\n",
        "            - pp.calc_duration(gz, rf)\n",
        "            - pp.calc_duration(gx_pre, gz_reph)\n",
        "            - pp.calc_duration(gx)\n",
        "            - delay_TE\n",
        "        )\n",
        "        / seq.grad_raster_time\n",
        "    )\n",
        "    * seq.grad_raster_time\n",
        ")\n",
        "# Ex 2. Removed gz_spoil from delay_TR check\n",
        "assert delay_TR >= pp.calc_duration(gx_spoil)\n",
        "\n",
        "rf_phase = 0\n",
        "rf_inc = 0\n",
        "\n",
        "# ======\n",
        "# CONSTRUCT SEQUENCE\n",
        "# ======\n",
        "for i in range(-N_dummy, len(phase_encode_table)):\n",
        "    # Set RF/ADC phase for RF spoiling, and increment RF phase\n",
        "    rf.phase_offset = rf_phase / 180 * np.pi\n",
        "    adc.phase_offset = rf_phase / 180 * np.pi\n",
        "\n",
        "    rf_inc = (rf_inc + rf_spoiling_inc) % 360.0\n",
        "    rf_phase = (rf_phase + rf_inc) % 360.0\n",
        "\n",
        "    # Slice-selective excitation pulse\n",
        "    seq.add_block(rf, gz)\n",
        "\n",
        "    # Slice rephaser and readout pre-phaser\n",
        "    # Ex 2. Changed angle to use index of radial spoke from the phase_encode_table\n",
        "    phi = delta * phase_encode_table[max(i,0)][0]\n",
        "\n",
        "    # Ex 2. Added pre-phaser for phase encoding in Z direction\n",
        "    # Note `max(i,0)` because i starts negative because of the dummy repetitions\n",
        "    gz_pre = pp.make_trapezoid(channel='z', area=phase_areas_z[phase_encode_table[max(i, 0)][1]] - gz.area / 2, duration=pp.calc_duration(gx_pre), system=system)\n",
        "    seq.add_block(*pp.rotate(gx_pre, angle=phi, axis=\"z\"), gz_pre)\n",
        "\n",
        "    # Wait so readout is centered on TE\n",
        "    seq.add_block(pp.make_delay(delay_TE))\n",
        "\n",
        "    # Readout gradient, rotated by `phi`\n",
        "    if i >= 0:\n",
        "        # Real scan, readout gradient + ADC object\n",
        "        seq.add_block(*pp.rotate(gx, angle=phi, axis=\"z\"), adc)\n",
        "    else:\n",
        "        # Dummy scan, do not add ADC object\n",
        "        seq.add_block(*pp.rotate(gx, angle=phi, axis=\"z\"))\n",
        "\n",
        "    # GX/GZ spoiler gradient, and wait for TR\n",
        "    # Ex 2. Replaced gz_spoil with gz_reph, which does both rephasing of the phase encode and spoiling according to gz_spoiler_area\n",
        "    gz_reph = pp.make_trapezoid(channel='z', area=-phase_areas_z[phase_encode_table[max(i, 0)][1]] + gz_spoiler_area, duration=pp.calc_duration(gx_spoil), system=system) # Z Rephaser and spoiler\n",
        "    seq.add_block(*pp.rotate(gx_spoil, angle=phi, axis=\"z\"), gz_reph, pp.make_delay(delay_TR))\n",
        "\n",
        "# Timing check\n",
        "ok, error_report = seq.check_timing()\n",
        "if ok:\n",
        "    print(\"Timing check passed successfully\")\n",
        "else:\n",
        "    print(\"Timing check failed! Error listing follows:\")\n",
        "    print(error_report)\n",
        "\n",
        "# ======\n",
        "# VISUALIZATION\n",
        "# ======\n",
        "if plot:\n",
        "    seq.plot()\n",
        "\n",
        "# Print test report\n",
        "print(seq.test_report())\n",
        "\n",
        "# =========\n",
        "# WRITE .SEQ\n",
        "# =========\n",
        "seq.set_definition(key=\"FOV\", value=[fov, fov, slice_thickness])\n",
        "\n",
        "if write_seq:\n",
        "    seq.set_definition(key=\"Name\", value=\"gre_rad\")\n",
        "    seq.write(seq_filename)"
      ],
      "metadata": {
        "id": "4BGmrGSPsdn7"
      },
      "execution_count": null,
      "outputs": []
    },
    {
      "cell_type": "markdown",
      "source": [
        "Calculate the distance between the last sample of the first readout and the last sample of the second readout, to check the Nyquist condition. This only works for linear steps in acquisition angle."
      ],
      "metadata": {
        "id": "Idm81F-I-jPD"
      }
    },
    {
      "cell_type": "code",
      "source": [
        "if delta == np.pi/Nr:\n",
        "    k_traj_adc, k_traj, t_excitation, t_refocusing, t_adc = seq.calculate_kspace()\n",
        "    deltak_edge = np.linalg.norm(k_traj_adc[:,adc.num_samples-1] - k_traj_adc[:,2*adc.num_samples-1])\n",
        "    if deltak_edge >= deltak*1.001: # Allow for small error\n",
        "        print(f'Not Nyquist sampled! {deltak / deltak_edge * 100:.1f}% ☹️')\n",
        "    else:\n",
        "        print(f'Nyquist sampled! {deltak / deltak_edge * 100:.1f}% 🥳')"
      ],
      "metadata": {
        "id": "_Vc1bK0i-QsF"
      },
      "execution_count": null,
      "outputs": []
    },
    {
      "cell_type": "code",
      "source": [
        "# Plot k-space trajectory\n",
        "k_traj_adc, k_traj, t_excitation, t_refocusing, t_adc = seq.calculate_kspace()\n",
        "\n",
        "plt.figure()\n",
        "plt.plot(k_traj[0],k_traj[1])\n",
        "plt.plot(k_traj_adc[0],k_traj_adc[1],'.')\n",
        "\n",
        "# Ex 2. Added Kx/Kz k-space plot\n",
        "plt.figure()\n",
        "plt.plot(k_traj[0],k_traj[2])\n",
        "plt.plot(k_traj_adc[0],k_traj_adc[2],'.')"
      ],
      "metadata": {
        "id": "40Ysn3V-F28w"
      },
      "execution_count": null,
      "outputs": []
    },
    {
      "cell_type": "markdown",
      "source": [
        "**Animate trajectory**"
      ],
      "metadata": {
        "id": "gqVCYCHYdfZs"
      }
    },
    {
      "cell_type": "code",
      "source": [
        "if animate_sequence:\n",
        "    ani = animate(seq, show=False, dt=seq.duration()[0] / 10, plot_window=seq.duration()[0], fps=10, show_progress=True)\n",
        "    display(HTML(ani.to_html5_video()))"
      ],
      "metadata": {
        "id": "SoNtyRAEbq-F"
      },
      "execution_count": null,
      "outputs": []
    },
    {
      "cell_type": "markdown",
      "source": [
        "**Run MR-zero simulation**\n",
        "\n",
        "The code below simulates the whole sequence, and shows the magnitude of the raw k-space profiles, as well as the so-called sinogram.\n",
        "\n",
        "In a radial acquisition, every acquired line is a projection of all signal perpendicular to the acquisition angle. By performing a 1D FFT over the readout direction, we can calculate that projection in image space, and display it."
      ],
      "metadata": {
        "id": "zZJonpjrzHga"
      }
    },
    {
      "cell_type": "code",
      "source": [
        "# Simulate sequence\n",
        "kdata = simulate_2d(seq, sim_size=[128,128], noise_level=0.5, n_coils=1).conj()\n",
        "\n",
        "# Display raw data profiles\n",
        "plt.figure()\n",
        "plt.imshow(abs(kdata[0]))\n",
        "plt.title('Magnitude of acquired raw data')\n",
        "\n",
        "# Display sinogram, first sort data according to acquisition angle\n",
        "angles = (np.arange(Nr)*delta) % (2*np.pi)\n",
        "angle_inds = np.argsort(angles)\n",
        "\n",
        "plt.figure()\n",
        "plt.imshow(abs(ifft_1d(kdata[0, angle_inds])).T,\n",
        "           extent=[angles[angle_inds[0]]/(2*np.pi)*360,angles[angle_inds[-1]]/(2*np.pi)*360,-Nx/2,Nx/2])\n",
        "plt.title('Sinogram')\n",
        "plt.ylabel('Readout direction (pixels)')\n",
        "plt.xlabel('Angle (degrees)');"
      ],
      "metadata": {
        "id": "hLoKdmAhbdvM"
      },
      "execution_count": null,
      "outputs": []
    },
    {
      "cell_type": "markdown",
      "source": [
        "**Reconstruction**\n",
        "\n",
        "To reconstruct non-Cartesian data, we need to use the non-uniform FFT (NUFFT). Here, we provide the `recon_nufft_2d` function to reconstruct non-Cartesian data using a NUFFT, and using the k-space trajectory calculated by `seq.calculate_kspace`.\n",
        "\n",
        "***Implementation details***: Instead of using density-compensation, we used an iterative solver to solve `minimize ||NUFFT(rec) - kdata|| + lambda*||rec||`. The second term is a regularization term, that penalizes high values in voxels (L2 norm), which suppresses some of the most obvious aliasing artifacts.\n",
        "\n",
        "There exist various density-compensation algorithms that would allow us to do this reconstruction with a single inverse NUFFT (i.e. `adj_NUFFT(kdata * density)`), assuming the data is sampled with a sufficient density."
      ],
      "metadata": {
        "id": "WZZiRMLPb3ul"
      }
    },
    {
      "cell_type": "code",
      "source": [
        "# Ex 2. Replaced reconstruction with 3D recon. Note that because the simulation object is 2D and sinc-interpolated, it does not give the expected result in the Z-dimension\n",
        "from utils import recon_nufft_3d\n",
        "rec = recon_nufft_3d(kdata, seq, (Nz, Nx, Nx), max_iter=100)\n",
        "\n",
        "plot_nd(rec)"
      ],
      "metadata": {
        "id": "zeEk_c0Ob6jE"
      },
      "execution_count": null,
      "outputs": []
    },
    {
      "cell_type": "markdown",
      "source": [
        "**Reconstruction: Compressed Sensing**\n",
        "\n",
        "Since we are using iterative reconstruction, it is easy to add a more complicated regularization term. Here, we penalize the differences between neighouring voxels (called Total Variation regularization). The result of this is that the reconstruction will tend towards piecewise-constant values. Even in Nyquist-sampled acquisitions, a reconstruction like this will suppress noise.  The higher the regularization term `lambda_tv`, the stronger this effect will be.\n",
        "\n",
        "***Implementation details:*** Internally this uses `sigpy.mri.app.TotalVariationRecon`, a ready made solution provided by `sigpy` to do such reconstructions easily. Although this is one of the most easy functions to use, there exist many other software packages to do iterative reconstructions! (e.g. BART)."
      ],
      "metadata": {
        "id": "COnAZVnbfim0"
      }
    },
    {
      "cell_type": "code",
      "source": [
        "# rec = recon_nufft_2d(kdata, seq, (Nx, Nx), lambda_tv=0.1)\n",
        "\n",
        "# plot_nd(rec)"
      ],
      "metadata": {
        "id": "ivH1HnWBfIN0"
      },
      "execution_count": null,
      "outputs": []
    },
    {
      "cell_type": "markdown",
      "source": [
        "# Exercises\n",
        "\n",
        "Note: If you want the whole notebook to run a bit faster, consider setting `animate_sequence = False` and commenting out the Compressed Sensing reconstruction block.\n",
        "\n",
        "## 1. Warmup exercises\n",
        "\n",
        "Run the full notebook. The reconstructed images do not look very good!\n",
        "\n",
        "***1.1 Steady state***\n",
        "\n",
        "- Look at the magnitude of the raw data and sinogram, what effect do you observe?\n",
        "\n",
        "This implementation includes the `N_dummy` parameter, which sets the number of repetitions of the pulse sequence that is run at the start of acquisition, without measuring data.\n",
        "\n",
        "- Increase `N_dummy` such that the intensity of the k-space profiles looks more homogeneous, and the reconstruct image looks nicer. Note: Increasing dummy scans also increases total scan time (and in this notebook: simulation time!). So it is best not to put it too high.\n",
        "\n",
        "***1.2 Number of radial spokes***\n",
        "\n",
        "In this example, we set the number of radial spokes (`Nr` parameter) somewhat arbitrarily to 128. Of course, this parameter depends on the desired FOV (the `fov` parameter) and resolution (defined by `Nx`, the readout length).\n",
        "\n",
        "- How many spokes do we need to sample a radial k-space according to the Nyquist limit? Note that the k-space coverage is the worst at the edge of k-space, and that in order to achieve a nominal FOV, k-space samples need to be `1/FOV` apart. The code block directly after the sequence definition checks this condition!\n",
        "\n",
        "- What happens to the image if we acquire less spokes than the nominal amount?\n",
        "\n",
        "Radial sampling is intrinsically very well-suited for Compressed Sensing (CS) reconstruction, which can very effectively reduce undersampling artifacts.\n",
        "\n",
        "- Have a look at the CS reconstruction above. `lambda_tv` controls the regularization strength (i.e. how smooth do we assume the image to be). Play around with different acceleration factors by reducing `Nr` (e.g. reduce by 2x, 4x, etc.), and try to get good reconstructions by varying the `lamdba_tv` parameter.\n",
        "\n",
        "\n",
        "***1.3 Golden angle radial***\n",
        "\n",
        "In the parameters at the start, `delta` defines the increment of the acquisition angle between two successive acquisitions. It is set to `180/Nr` degrees (defined in radians: `np.pi/Nr`), i.e. it linearly goes over all angles between 0 and 180, as can be seen in the k-space animation.\n",
        "\n",
        "A common scheme for radial acquisitions is to use a golden angle increment (https://en.wikipedia.org/wiki/Golden_angle).\n",
        "\n",
        "- Change `delta` to be the golden angle.\n",
        "\n",
        "When the acquisition is in steady-state, and motion and other artifacts are absent (as in our simulation), the effect of this change is not immediately obvious. As a demonstration of signal varying over time, we can acquire signal partially in the transient state.\n",
        "\n",
        "- Change `N_dummy` back to 0 and simulate the sequence. While the contrast of the image is still not very good, the artifacts appear very different, purely because of the sampling scheme! Similar to profile ordering in Cartesian sampling, this can be very useful in practice when dealing with motion, magnetization-prepared acquisitions, etc. Change `N_dummy` back to a reasonable number for the next exercise.\n",
        "\n",
        "Golden angle radial sampling is especially useful in dynamic acquisitions as it allows reconstruction from an arbitrary subset of acquired lines.\n",
        "\n",
        "In the `recon_nufft_2d` function we included a parameter to reconstruct from a subset of the acquired lines. In your own work you would probably implement the reconstruction yourself and be able to do this with more flexibility.\n",
        "\n",
        "- Modify the CS reconstruction above to use the `profile_range` parameter, as follows to reconstruct the 20th up to 40th acquisition (not inclusive), for example:\n",
        "\n",
        "```rec = recon_nufft_2d(kdata, seq, (Nx, Nx), lambda_tv=0.1, profile_range=[20,40])```\n",
        "\n",
        "- Play around with the number of acquisitions and which part of the sequence the acquisitions are taken from. Does it matter?\n",
        "\n",
        "Even heavily undersampled radial sequences can be used to reconstruct meaningful data, especially with CS reconstruction. In dynamic acquisitions, smoothness in the time dimension is often enforced in the reconstruction to recover better spatial resolution from a limited number lines acquired per frame.\n",
        "\n",
        "## 2. Optional, advanced exercise: 3D Stack-of-stars\n",
        "\n",
        "Only start this if you have plenty of time and feel very comfortable with pypulseq at this point. It is probably best to continue with exercise 3 first and coming back to this exercise if time permits. Otherwise, consider this a take-home exercise!\n",
        "\n",
        "The radial sequence here is limited to 2D imaging. It is possible to use 2D multislice imaging to acquire a 3D volume, but this has various issues. It is possible to do true, 3D imaging with radial sequences. One such variant is stack-of-stars, where we use Cartesian phase-encoding in the Z direction, and radial encoding in the XY-plane.\n",
        "\n",
        "- Start by increasing `slice_thickness`, and adding a `Nz` parameter, for the number of slices. Note that we will be encoding `Nz` voxels in a `slice_thickness` thick volume (i.e. the true slice thickness or Z-resolution = `slice_thickness / Nz`).\n",
        "\n",
        "- In addition to a rephasing gradient in the Z-direction, we will now also need a phase encoding gradient. Call this `gz_pre`, and make sure to design it for the maximum gradient area required to encode further point in k-space (i.e. `1/slice_thickness * Nz/2`).\n",
        "  - You could borrow this from a phase-encoded Cartesian sequence, such as the one used in exercise 1.\n",
        "\n",
        "- Now the sequence will need an additional loop over the `Nz` phase-encodes. This could be either the inner or outer loop, depending on whether you would want to acquire all `Nz` phase-encodes per radial line first, or whether to acquire one \"star\" at a time, one phase-encode at a time. Choose one, and add `gz_pre` to the sequence, making sure to that it is scaled with the phase-encoding step.\n",
        "  - Alternatively, recreate `gz_pre` in each repetition with the correct gradient area. In this case, make sure to manually set a `duration`, to avoid `TE` changing per phase-encode.\n",
        "  - Note that `gz_pre` and `gz_reph` could be combined for better time-efficiency. You can optionally do this now (recreate the phase encoding gradient within the sequence loop, with the correct area).\n",
        "\n",
        "- Finally, if you have added new blocks to the sequence, make sure to update the calculations for `delay_TE` and `delay_TR`.\n",
        "\n",
        "If all went well, you now have a 3D radial stack-of-stars sequence! For slightly better k-space coverage, the acquisition angle could be varied per phase-encode in Z. Note that we do not include a 3D simulation object, so to test the sequence you will need to take the sequence to a scanner! The `utils.py` file does contain a `recon_nufft_3d` function for 3D trajectories in general, although a proper reconstruction would do a 1D FFT in the slice direction and non-Cartesian reconstruction in the XY-plane only."
      ],
      "metadata": {
        "id": "ucKtmLV4rNjE"
      }
    }
  ]
}